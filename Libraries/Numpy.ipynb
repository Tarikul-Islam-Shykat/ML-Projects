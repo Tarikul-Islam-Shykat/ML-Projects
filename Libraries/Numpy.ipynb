{
  "nbformat": 4,
  "nbformat_minor": 0,
  "metadata": {
    "colab": {
      "name": "Numpy.ipynb",
      "provenance": [],
      "collapsed_sections": []
    },
    "kernelspec": {
      "name": "python3",
      "display_name": "Python 3"
    },
    "language_info": {
      "name": "python"
    }
  },
  "cells": [
    {
      "cell_type": "code",
      "execution_count": null,
      "metadata": {
        "id": "v3252af7F1P_"
      },
      "outputs": [],
      "source": [
        "import numpy as np"
      ]
    },
    {
      "cell_type": "markdown",
      "source": [
        "#BASIC"
      ],
      "metadata": {
        "id": "jMIa_x90G3cU"
      }
    },
    {
      "cell_type": "code",
      "source": [
        "#> basic\n",
        "a = np.array([1,2,3])\n",
        "print(a) # prints the array\n",
        "print(a.shape) # show the dimension and number of elements.\n",
        "print(a.dtype) # prints the data type\n",
        "print(a.size) # prints the size of the array\n",
        "print(a.itemsize) # show the element size in bytes"
      ],
      "metadata": {
        "colab": {
          "base_uri": "https://localhost:8080/"
        },
        "id": "WBEqD3XZF_Pc",
        "outputId": "50717d84-3cfe-46e1-a9e3-c50470d54d48"
      },
      "execution_count": null,
      "outputs": [
        {
          "output_type": "stream",
          "name": "stdout",
          "text": [
            "[1 2 3]\n",
            "(3,)\n",
            "int64\n",
            "3\n",
            "8\n"
          ]
        }
      ]
    },
    {
      "cell_type": "markdown",
      "source": [
        "Accessing elements"
      ],
      "metadata": {
        "id": "oKLf4LkhHh3Q"
      }
    },
    {
      "cell_type": "code",
      "source": [
        "print(a[0])"
      ],
      "metadata": {
        "colab": {
          "base_uri": "https://localhost:8080/"
        },
        "id": "3A-hb23JHkL3",
        "outputId": "be4863ee-9c01-475c-cbdc-88f2dd8875e3"
      },
      "execution_count": null,
      "outputs": [
        {
          "output_type": "stream",
          "name": "stdout",
          "text": [
            "1\n"
          ]
        }
      ]
    },
    {
      "cell_type": "markdown",
      "source": [
        "New array"
      ],
      "metadata": {
        "id": "PAREQNd3H18G"
      }
    },
    {
      "cell_type": "code",
      "source": [
        "b = a * np.array([2,0,2])\n",
        "print(b) # multiplies each of the element of array a with new array.\n",
        "\n",
        "b = b + np.array([4])\n",
        "print(b) # add 4 with each of the elemnt of the array.\n",
        "\n",
        "b = b*2\n",
        "print(b) # multiply 2 with each element."
      ],
      "metadata": {
        "colab": {
          "base_uri": "https://localhost:8080/"
        },
        "id": "M9HJxId_H3wi",
        "outputId": "2beb877c-e0a9-4874-85ea-478dc84b35e7"
      },
      "execution_count": null,
      "outputs": [
        {
          "output_type": "stream",
          "name": "stdout",
          "text": [
            "[2 0 6]\n",
            "[ 6  4 10]\n",
            "[12  8 20]\n"
          ]
        }
      ]
    },
    {
      "cell_type": "markdown",
      "source": [
        "List to Array"
      ],
      "metadata": {
        "id": "hxx4KZ73IUx5"
      }
    },
    {
      "cell_type": "code",
      "source": [
        "list_1 = [1,2,3]\n",
        "a = np.array(list_1)\n",
        "print(a)"
      ],
      "metadata": {
        "colab": {
          "base_uri": "https://localhost:8080/"
        },
        "id": "rrYrvcg-IiKV",
        "outputId": "f0fc0a62-b4ba-4787-cc15-aae9219cdbac"
      },
      "execution_count": null,
      "outputs": [
        {
          "output_type": "stream",
          "name": "stdout",
          "text": [
            "[1 2 3]\n"
          ]
        }
      ]
    },
    {
      "cell_type": "markdown",
      "source": [
        "Root and log"
      ],
      "metadata": {
        "id": "dGOEBwhUKACG"
      }
    },
    {
      "cell_type": "code",
      "source": [
        "b = np.log(b)\n",
        "print(b)\n",
        "\n",
        "b = np.sqrt(b)\n",
        "print(b)\n"
      ],
      "metadata": {
        "colab": {
          "base_uri": "https://localhost:8080/"
        },
        "id": "nT3nOzmRKECP",
        "outputId": "8bbeccf7-c0e9-4554-f147-bfea701431e4"
      },
      "execution_count": null,
      "outputs": [
        {
          "output_type": "stream",
          "name": "stdout",
          "text": [
            "[2.48490665 2.07944154 2.99573227]\n",
            "[1.57635867 1.44202689 1.73081838]\n"
          ]
        }
      ]
    },
    {
      "cell_type": "markdown",
      "source": [
        "Dot Product"
      ],
      "metadata": {
        "id": "QlKsS4VUKZdu"
      }
    },
    {
      "cell_type": "code",
      "source": [
        "# we already have two array\n",
        "dot = np.dot(a,b)\n",
        "print(dot)\n",
        "\n",
        "# another way\n",
        "print(a @ b)"
      ],
      "metadata": {
        "colab": {
          "base_uri": "https://localhost:8080/"
        },
        "id": "91e120PWKbLm",
        "outputId": "8d353dc5-bd1c-4df2-b714-616dd4e98754"
      },
      "execution_count": null,
      "outputs": [
        {
          "output_type": "stream",
          "name": "stdout",
          "text": [
            "9.652867588884686\n",
            "9.652867588884686\n"
          ]
        }
      ]
    },
    {
      "cell_type": "markdown",
      "source": [
        "#Multidimensional Array"
      ],
      "metadata": {
        "id": "3opmDwVxM8sM"
      }
    },
    {
      "cell_type": "code",
      "source": [
        "a2  = np.array([[1,2],[3,4]])\n",
        "print(a2)\n",
        "print(a2.shape)\n",
        "print(a2.ndim)\n",
        "\n",
        "# access element.\n",
        "print(\"elements\", a2[0,1]) # prints individual elements \n",
        "print(\"elements\", a2[0]) # print one row"
      ],
      "metadata": {
        "colab": {
          "base_uri": "https://localhost:8080/"
        },
        "id": "0S7v5zq7NDRF",
        "outputId": "31755cda-8dce-4dd3-8c68-0ad3564d9b81"
      },
      "execution_count": null,
      "outputs": [
        {
          "output_type": "stream",
          "name": "stdout",
          "text": [
            "[[1 2]\n",
            " [3 4]]\n",
            "(2, 2)\n",
            "2\n",
            "elements 2\n",
            "elements [1 2]\n"
          ]
        }
      ]
    },
    {
      "cell_type": "markdown",
      "source": [
        "Matrix Operation"
      ],
      "metadata": {
        "id": "AUSOpMmnOZfl"
      }
    },
    {
      "cell_type": "code",
      "source": [
        "print(a2.T) # print transpose\n",
        "print(np.linalg.inv(a2))# prints inverse and remeber to keep it square matrix\n",
        "print(np.linalg.det(a2)) # determinant\n",
        "print(np.diag(a))# diagonal elements of the array\n"
      ],
      "metadata": {
        "colab": {
          "base_uri": "https://localhost:8080/"
        },
        "id": "YHag62h-ObM8",
        "outputId": "1cdd09b5-0b7c-4ad6-c5b8-83d6ca172248"
      },
      "execution_count": null,
      "outputs": [
        {
          "output_type": "stream",
          "name": "stdout",
          "text": [
            "[[1 3]\n",
            " [2 4]]\n",
            "[[-2.   1. ]\n",
            " [ 1.5 -0.5]]\n",
            "-2.0000000000000004\n",
            "[[1 0 0]\n",
            " [0 2 0]\n",
            " [0 0 3]]\n"
          ]
        }
      ]
    },
    {
      "cell_type": "markdown",
      "source": [
        "# Indexing/ slicing / Boolean Indexing"
      ],
      "metadata": {
        "id": "0Jc9gOK2ZT5-"
      }
    },
    {
      "cell_type": "code",
      "source": [
        "arr = np.array([[1,2,3,4],[5,6,7,8]])\n",
        "print(arr)\n",
        "\n",
        "#indexing\n",
        "print(\"> 0,1 elements : \",arr[0,1])\n",
        "\n",
        "# print element of the first row\n",
        "print(\"> print the element of the first row :\", arr[0,:])\n",
        "print(\"> print the element of the second row :\", arr[1,:])\n",
        "\n",
        "# printing colums\n",
        "print(\"> print the element of the first column :\", arr[:,0])\n",
        "print(\"> print the element of the second column :\", arr[:,1])\n",
        "\n",
        "\n",
        "print(\"> elements of row = 0 and column 1 to 3 :\", arr[0,1:3])\n",
        "\n",
        "# using the minus index\n",
        "\n",
        "print(\"> last row and last element :\", arr[-1,-1])\n",
        "print(\">  second > last row and last element :\", arr[-1,-2])"
      ],
      "metadata": {
        "colab": {
          "base_uri": "https://localhost:8080/"
        },
        "id": "v9ZWuZzFZWZ2",
        "outputId": "42362c79-ee85-446b-abb6-63c05da84a9f"
      },
      "execution_count": null,
      "outputs": [
        {
          "output_type": "stream",
          "name": "stdout",
          "text": [
            "[[1 2 3 4]\n",
            " [5 6 7 8]]\n",
            "> 0,1 elements :  2\n",
            "> print the element of the first row : [1 2 3 4]\n",
            "> print the element of the second row : [5 6 7 8]\n",
            "> print the element of the first column : [1 5]\n",
            "> print the element of the second column : [2 6]\n",
            "> elements of row = 0 and column 1 to 3 : [2 3]\n",
            "> last row and last element : 8\n",
            ">  second > last row and last element : 7\n"
          ]
        }
      ]
    },
    {
      "cell_type": "markdown",
      "source": [
        "Condition on multidimenstional array."
      ],
      "metadata": {
        "id": "_MXifs40cdsQ"
      }
    },
    {
      "cell_type": "code",
      "source": [
        "c = np.array([  [1,2], [3,4], [5,6] ])\n",
        "print(c)\n",
        "\n",
        "bool_idx = c>2\n",
        "print(bool_idx) # it wil print the same matrx\n",
        "\n",
        "print(c[c>2]) # prints all the elements of c which are greater than 2\n",
        "\n",
        "d = np.array([12,23,4,3,2,46,332,87])\n",
        "b = [1,2,3]\n",
        "print(d[b]) # it prints the element of d with indexing of b elements. "
      ],
      "metadata": {
        "colab": {
          "base_uri": "https://localhost:8080/"
        },
        "id": "FUEhZNn4aVLG",
        "outputId": "d6a31cf8-5416-40fa-ee6d-0b08ce162b1a"
      },
      "execution_count": null,
      "outputs": [
        {
          "output_type": "stream",
          "name": "stdout",
          "text": [
            "[[1 2]\n",
            " [3 4]\n",
            " [5 6]]\n",
            "[[False False]\n",
            " [ True  True]\n",
            " [ True  True]]\n",
            "[3 4 5 6]\n",
            "[23  4  3]\n"
          ]
        }
      ]
    },
    {
      "cell_type": "markdown",
      "source": [
        "# Reshaping"
      ],
      "metadata": {
        "id": "_K5RqCsUdcOL"
      }
    },
    {
      "cell_type": "code",
      "source": [
        "ar = np.arange(1,7)\n",
        "print(ar) # it actually gives out the array from range 1 to 6\n",
        "\n",
        "# reshaping\n",
        "print('befor reshaping ', ar.shape)\n",
        "br = ar.reshape((2,3))\n",
        "print('after reshaping ',br.shape) # if it fails to reshape, the it will throw an error. \n",
        "print(br) # transform into an array of 2,3"
      ],
      "metadata": {
        "id": "Q0HqP2JHditv",
        "colab": {
          "base_uri": "https://localhost:8080/"
        },
        "outputId": "a51650db-3305-48d0-c4af-769c50550011"
      },
      "execution_count": null,
      "outputs": [
        {
          "output_type": "stream",
          "name": "stdout",
          "text": [
            "[1 2 3 4 5 6]\n",
            "befor reshaping  (6,)\n",
            "after reshaping  (2, 3)\n",
            "[[1 2 3]\n",
            " [4 5 6]]\n"
          ]
        }
      ]
    },
    {
      "cell_type": "markdown",
      "source": [
        "#Concatanation"
      ],
      "metadata": {
        "id": "f1bSgP77-coZ"
      }
    },
    {
      "cell_type": "code",
      "source": [
        "a1 = np.array([[1,2],[3,4]])\n",
        "a2 = np.array([[4,5],[6,7]])\n",
        "\n",
        "c= np.concatenate((a1,a2)) # take in tuple\n",
        "print(c)\n",
        "\n",
        "# horizontal\n",
        "c = np.hstack((a1,a2)) # row, column must match.\n",
        "print(c)\n",
        "\n",
        "\n",
        "# vertical\n",
        "c = np.vstack((a1,a2)) # row, column must match.\n",
        "print(c)"
      ],
      "metadata": {
        "colab": {
          "base_uri": "https://localhost:8080/"
        },
        "id": "1yByKd8M-gwe",
        "outputId": "403d7c4f-ea72-43dc-b3d8-bbeee21de43d"
      },
      "execution_count": null,
      "outputs": [
        {
          "output_type": "stream",
          "name": "stdout",
          "text": [
            "[[1 2]\n",
            " [3 4]\n",
            " [4 5]\n",
            " [6 7]]\n",
            "[[1 2 4 5]\n",
            " [3 4 6 7]]\n",
            "[[1 2]\n",
            " [3 4]\n",
            " [4 5]\n",
            " [6 7]]\n"
          ]
        }
      ]
    },
    {
      "cell_type": "markdown",
      "source": [
        "#Broadcasting"
      ],
      "metadata": {
        "id": "iDTuxJ9iA_LW"
      }
    },
    {
      "cell_type": "code",
      "source": [
        "# to avoid error in during concatanation.\n",
        "\n",
        "a1 = np.array([[1,2,5],[3,4,6],[12,12,7],[14,12,9]])\n",
        "a2 = np.array([[1,1,0]])\n",
        "\n",
        "y1 = a1 + a2\n",
        "print(y1)"
      ],
      "metadata": {
        "colab": {
          "base_uri": "https://localhost:8080/"
        },
        "id": "UJZEb5O8BBWV",
        "outputId": "7350b93c-cac1-4333-a9a8-c77007c4a215"
      },
      "execution_count": null,
      "outputs": [
        {
          "output_type": "stream",
          "name": "stdout",
          "text": [
            "[[ 2  3  5]\n",
            " [ 4  5  6]\n",
            " [13 13  7]\n",
            " [15 13  9]]\n"
          ]
        }
      ]
    },
    {
      "cell_type": "code",
      "source": [
        "\n"
      ],
      "metadata": {
        "id": "5ZPIKISPBKfh"
      },
      "execution_count": null,
      "outputs": []
    },
    {
      "cell_type": "markdown",
      "source": [
        "# Function and axis"
      ],
      "metadata": {
        "id": "0j6fVUk2B-jN"
      }
    },
    {
      "cell_type": "code",
      "source": [
        "sum1 = np.array([[1,2,5],[3,4,6],[12,12,7],[14,12,9]])\n",
        "print('array', sum1)\n",
        "print(sum1.sum()) # overall sum\n",
        "print('by row :',sum1.sum(axis = 1)) # sum by row\n",
        "print('By column :',sum1.sum(axis = 0)) # sum by column \n",
        "\n",
        "# for mean\n",
        "print('Overall mean :',sum1.mean()) # function like axis availble to mean."
      ],
      "metadata": {
        "colab": {
          "base_uri": "https://localhost:8080/"
        },
        "id": "jKIsg3qrCBg7",
        "outputId": "2dca57ee-fe6b-40b8-c47a-6465811326c7"
      },
      "execution_count": null,
      "outputs": [
        {
          "output_type": "stream",
          "name": "stdout",
          "text": [
            "array [[ 1  2  5]\n",
            " [ 3  4  6]\n",
            " [12 12  7]\n",
            " [14 12  9]]\n",
            "87\n",
            "by row : [ 8 13 31 35]\n",
            "By column : [30 30 27]\n",
            "7.25\n"
          ]
        }
      ]
    },
    {
      "cell_type": "markdown",
      "source": [
        "#Generating array"
      ],
      "metadata": {
        "id": "NI3pk72iEp88"
      }
    },
    {
      "cell_type": "code",
      "source": [
        "# generate arrays full of zero \n",
        "a = np.zeros((2,3))\n",
        "print(a,'\\n')\n",
        "\n",
        "# with 1\n",
        "print('with ones')\n",
        "a = np.ones((2,3))\n",
        "print(a,'\\n')\n",
        "\n",
        "# with specific value\n",
        "a = np.full((2,3),5.0)\n",
        "print(a,'\\n')\n",
        "\n",
        "#identity martrix\n",
        "a = np.eye(3)\n",
        "print(a,' > identity matrix\\n')\n",
        "\n",
        "\n",
        "# generating random numbers\n",
        "a = np.random.random((3,2))\n",
        "print(a,'> random value\\n')\n",
        "\n",
        "# generating random numbers range 1> 10\n",
        "a = np.random.randint(1,10, size =(3,3))\n",
        "print(a,'> random value with range 1 > 10\\n')\n",
        "\n",
        "\n"
      ],
      "metadata": {
        "colab": {
          "base_uri": "https://localhost:8080/"
        },
        "id": "qVYEG7VyEraL",
        "outputId": "7c84ff46-7320-4dcf-bfb9-8a8f738747f4"
      },
      "execution_count": null,
      "outputs": [
        {
          "output_type": "stream",
          "name": "stdout",
          "text": [
            "[[0. 0. 0.]\n",
            " [0. 0. 0.]] \n",
            "\n",
            "with ones\n",
            "[[1. 1. 1.]\n",
            " [1. 1. 1.]] \n",
            "\n",
            "[[5. 5. 5.]\n",
            " [5. 5. 5.]] \n",
            "\n",
            "[[1. 0. 0.]\n",
            " [0. 1. 0.]\n",
            " [0. 0. 1.]]  > identity matrix\n",
            "\n",
            "[[0.87729145 0.56292458]\n",
            " [0.89884281 0.11266156]\n",
            " [0.43535783 0.73632137]] > random value\n",
            "\n",
            "[[4 8 2]\n",
            " [8 9 5]\n",
            " [7 7 3]] > random value\n",
            "\n"
          ]
        }
      ]
    },
    {
      "cell_type": "markdown",
      "source": [
        "#Load CSV FILE"
      ],
      "metadata": {
        "id": "BYm0tDbIJcl7"
      }
    },
    {
      "cell_type": "code",
      "source": [
        "# bring the data in the same file\n",
        "\n",
        "data = np.genfromtxt(\"csv_file_name.csv\", delimiter = ',')"
      ],
      "metadata": {
        "id": "Dvt_mLQIJf-6"
      },
      "execution_count": null,
      "outputs": []
    }
  ]
}