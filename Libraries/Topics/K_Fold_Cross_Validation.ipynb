{
  "nbformat": 4,
  "nbformat_minor": 0,
  "metadata": {
    "colab": {
      "name": "K Fold Cross Validation.ipynb",
      "provenance": []
    },
    "kernelspec": {
      "name": "python3",
      "display_name": "Python 3"
    },
    "language_info": {
      "name": "python"
    }
  },
  "cells": [
    {
      "cell_type": "markdown",
      "source": [
        "# *** K Fold Cross Validation***"
      ],
      "metadata": {
        "id": "u0ejUFHLQ4RP"
      }
    },
    {
      "cell_type": "markdown",
      "source": [
        "Cross validation allows us to see which model is performing better among multiple model, for example, supppose you used svm, or linear regression, using cross validation you can see whcih model is performing better."
      ],
      "metadata": {
        "id": "nc7rpnLrRCye"
      }
    },
    {
      "cell_type": "markdown",
      "source": [
        "It ensures that the score of our model does not depend on the way we select our train and test subsets. In this approach, we divide the data set into k number of subsets and the holdout method is repeated k number of times"
      ],
      "metadata": {
        "id": "zJ_K_pscQ-su"
      }
    },
    {
      "cell_type": "markdown",
      "source": [
        "In some cases we use tain and split method to test, in some cases we also use to train with all the data we have and perform the opertation. But both of them has some flaws like,being bias or for train and split, the splited data is completely different form the actual data."
      ],
      "metadata": {
        "id": "yFXm3-VR07Cq"
      }
    },
    {
      "cell_type": "markdown",
      "source": [
        "In k cross validation , what we do is, we split our data in train and split fold, then first we take one fold and take the score of accuracy, then we take another fold and check the number of acuracy, if needed we do this again and check the number of acuracy. Then we avarage them out and take the average score. "
      ],
      "metadata": {
        "id": "m84tzQAm1b9C"
      }
    },
    {
      "cell_type": "code",
      "source": [
        "from sklearn.linear_model import LogisticRegression\n",
        "from sklearn.svm import SVC\n",
        "from sklearn.ensemble import RandomForestClassifier\n",
        "import numpy as np\n",
        "from sklearn.datasets import load_digits\n",
        "import matplotlib.pyplot as plt\n"
      ],
      "metadata": {
        "id": "daSRmrKXQ-B-"
      },
      "execution_count": 2,
      "outputs": []
    },
    {
      "cell_type": "code",
      "source": [
        "digits = load_digits()"
      ],
      "metadata": {
        "id": "7RpJo5Ya18US"
      },
      "execution_count": 3,
      "outputs": []
    },
    {
      "cell_type": "code",
      "source": [
        "from sklearn.model_selection import train_test_split\n",
        "X_train, X_test, y_train, y_test = train_test_split(digits.data,digits.target,test_size=0.3)"
      ],
      "metadata": {
        "id": "6CD6daS32HSJ"
      },
      "execution_count": 4,
      "outputs": []
    },
    {
      "cell_type": "markdown",
      "source": [
        "Using logistic regression"
      ],
      "metadata": {
        "id": "0Z8-GLZk2LU5"
      }
    },
    {
      "cell_type": "code",
      "source": [
        "lr = LogisticRegression()\n",
        "lr.fit(X_train, y_train)"
      ],
      "metadata": {
        "id": "AJKLiHZH2K_x"
      },
      "execution_count": null,
      "outputs": []
    },
    {
      "cell_type": "code",
      "source": [
        "lr.score(X_test, y_test)"
      ],
      "metadata": {
        "colab": {
          "base_uri": "https://localhost:8080/"
        },
        "id": "LUpKseKJ2WOp",
        "outputId": "e627f281-1eb7-4741-f086-dd08fc1e14db"
      },
      "execution_count": 8,
      "outputs": [
        {
          "output_type": "execute_result",
          "data": {
            "text/plain": [
              "0.9574074074074074"
            ]
          },
          "metadata": {},
          "execution_count": 8
        }
      ]
    },
    {
      "cell_type": "markdown",
      "source": [
        "SVM"
      ],
      "metadata": {
        "id": "107NL5ow2aAL"
      }
    },
    {
      "cell_type": "code",
      "source": [
        "svm = SVC(gamma = \"auto\")\n",
        "svm.fit(X_train, y_train)\n",
        "svm.score(X_test, y_test)"
      ],
      "metadata": {
        "colab": {
          "base_uri": "https://localhost:8080/"
        },
        "id": "0bR_tq532Zl7",
        "outputId": "a8510b88-b7e3-4bf8-9ed2-1f34c60116aa"
      },
      "execution_count": 12,
      "outputs": [
        {
          "output_type": "execute_result",
          "data": {
            "text/plain": [
              "0.5166666666666667"
            ]
          },
          "metadata": {},
          "execution_count": 12
        }
      ]
    },
    {
      "cell_type": "markdown",
      "source": [
        "Random Forest"
      ],
      "metadata": {
        "id": "ZyWq0jrH2uWB"
      }
    },
    {
      "cell_type": "code",
      "source": [
        "rf = RandomForestClassifier(n_estimators=40)\n",
        "rf.fit(X_train, y_train)\n",
        "rf.score(X_test, y_test)"
      ],
      "metadata": {
        "colab": {
          "base_uri": "https://localhost:8080/"
        },
        "id": "MZ6ATSzf2w5h",
        "outputId": "79f55aa5-8c86-4a2d-e39d-07d9befbc624"
      },
      "execution_count": 13,
      "outputs": [
        {
          "output_type": "execute_result",
          "data": {
            "text/plain": [
              "0.9703703703703703"
            ]
          },
          "metadata": {},
          "execution_count": 13
        }
      ]
    },
    {
      "cell_type": "markdown",
      "source": [
        "K fold demonstration"
      ],
      "metadata": {
        "id": "PwmLQQZF-qOo"
      }
    },
    {
      "cell_type": "code",
      "source": [
        "from sklearn.model_selection import KFold\n",
        "kf = KFold(n_splits=3) # specified the number of folds you want to create.\n",
        "kf"
      ],
      "metadata": {
        "colab": {
          "base_uri": "https://localhost:8080/"
        },
        "id": "ixmYDIBs-tk2",
        "outputId": "54e0190a-ff50-4b33-e9ae-0e95d3b7e1bc"
      },
      "execution_count": 14,
      "outputs": [
        {
          "output_type": "execute_result",
          "data": {
            "text/plain": [
              "KFold(n_splits=3, random_state=None, shuffle=False)"
            ]
          },
          "metadata": {},
          "execution_count": 14
        }
      ]
    },
    {
      "cell_type": "code",
      "source": [
        "for train_index, test_index in kf.split([1,2,3,4,5,6,7,8,9]):\n",
        "    print(train_index, test_index)\n",
        "\n",
        "# you can see it divided it into 3 folds or split , for test and train. "
      ],
      "metadata": {
        "colab": {
          "base_uri": "https://localhost:8080/"
        },
        "id": "Lfwkckwq-6UX",
        "outputId": "67806686-c475-4034-eb7a-83b63894a66b"
      },
      "execution_count": 15,
      "outputs": [
        {
          "output_type": "stream",
          "name": "stdout",
          "text": [
            "[3 4 5 6 7 8] [0 1 2]\n",
            "[0 1 2 6 7 8] [3 4 5]\n",
            "[0 1 2 3 4 5] [6 7 8]\n"
          ]
        }
      ]
    },
    {
      "cell_type": "code",
      "source": [
        "def get_score(model, X_train, X_test, y_train, y_test):\n",
        "    model.fit(X_train, y_train)\n",
        "    return model.score(X_test, y_test)"
      ],
      "metadata": {
        "id": "ye-xa6zb_-pA"
      },
      "execution_count": 16,
      "outputs": []
    },
    {
      "cell_type": "code",
      "source": [
        "# easy way for getting all the classifier result\n",
        "print(get_score(LogisticRegression(), X_train, X_test, y_train, y_test))"
      ],
      "metadata": {
        "colab": {
          "base_uri": "https://localhost:8080/"
        },
        "id": "2H0ZO2WqAPUH",
        "outputId": "a92ade61-b8ee-4978-9550-50550245ef94"
      },
      "execution_count": 19,
      "outputs": [
        {
          "output_type": "stream",
          "name": "stdout",
          "text": [
            "0.9574074074074074\n"
          ]
        },
        {
          "output_type": "stream",
          "name": "stderr",
          "text": [
            "/usr/local/lib/python3.7/dist-packages/sklearn/linear_model/_logistic.py:818: ConvergenceWarning: lbfgs failed to converge (status=1):\n",
            "STOP: TOTAL NO. of ITERATIONS REACHED LIMIT.\n",
            "\n",
            "Increase the number of iterations (max_iter) or scale the data as shown in:\n",
            "    https://scikit-learn.org/stable/modules/preprocessing.html\n",
            "Please also refer to the documentation for alternative solver options:\n",
            "    https://scikit-learn.org/stable/modules/linear_model.html#logistic-regression\n",
            "  extra_warning_msg=_LOGISTIC_SOLVER_CONVERGENCE_MSG,\n"
          ]
        }
      ]
    },
    {
      "cell_type": "code",
      "source": [
        "from sklearn.model_selection import StratifiedKFold\n",
        "# StratifiedKFold : divide each of the classification category , in each fold\n",
        "folds = StratifiedKFold(n_splits=3)\n",
        "\n",
        "scores_logistic = []\n",
        "scores_svm = []\n",
        "scores_rf = []\n"
      ],
      "metadata": {
        "id": "nXNjVaupAlN_"
      },
      "execution_count": 21,
      "outputs": []
    },
    {
      "cell_type": "code",
      "source": [
        "for train_index, test_index in folds.split(digits.data,digits.target):\n",
        "    X_train, X_test, y_train, y_test = digits.data[train_index], digits.data[test_index], \\\n",
        "                                       digits.target[train_index], digits.target[test_index]\n",
        "\n",
        "# appending scores of different model\n",
        "    scores_logistic.append(get_score(LogisticRegression(solver='liblinear',multi_class='ovr'), X_train, X_test, y_train, y_test))  \n",
        "    \n",
        "    scores_svm.append(get_score(SVC(gamma='auto'), X_train, X_test, y_train, y_test))\n",
        "\n",
        "    scores_rf.append(get_score(RandomForestClassifier(n_estimators=40), X_train, X_test, y_train, y_test))"
      ],
      "metadata": {
        "id": "To20MQVNDSnd"
      },
      "execution_count": 22,
      "outputs": []
    },
    {
      "cell_type": "code",
      "source": [
        "scores_logistic"
      ],
      "metadata": {
        "colab": {
          "base_uri": "https://localhost:8080/"
        },
        "id": "Sc67HZJdEUle",
        "outputId": "2684a317-fbd8-48e9-a5a0-7885f104c0e7"
      },
      "execution_count": 23,
      "outputs": [
        {
          "output_type": "execute_result",
          "data": {
            "text/plain": [
              "[0.8948247078464107, 0.9532554257095158, 0.9098497495826378]"
            ]
          },
          "metadata": {},
          "execution_count": 23
        }
      ]
    },
    {
      "cell_type": "code",
      "source": [
        "scores_svm"
      ],
      "metadata": {
        "colab": {
          "base_uri": "https://localhost:8080/"
        },
        "id": "YOY54x81EWZu",
        "outputId": "57b6494b-54ba-44a5-e546-7dfa6ea1425d"
      },
      "execution_count": 26,
      "outputs": [
        {
          "output_type": "execute_result",
          "data": {
            "text/plain": [
              "[0.3806343906510851, 0.41068447412353926, 0.5125208681135225]"
            ]
          },
          "metadata": {},
          "execution_count": 26
        }
      ]
    },
    {
      "cell_type": "code",
      "source": [
        "scores_rf"
      ],
      "metadata": {
        "colab": {
          "base_uri": "https://localhost:8080/"
        },
        "id": "7jF2xLyOEXP-",
        "outputId": "961d76c9-16af-41fb-9ee3-7f1447f25981"
      },
      "execution_count": 25,
      "outputs": [
        {
          "output_type": "execute_result",
          "data": {
            "text/plain": [
              "[0.9398998330550918, 0.9549248747913188, 0.9298831385642737]"
            ]
          },
          "metadata": {},
          "execution_count": 25
        }
      ]
    },
    {
      "cell_type": "markdown",
      "source": [
        "cross_val_score function(easy way)\n"
      ],
      "metadata": {
        "id": "Y3XWlCR1EcwW"
      }
    },
    {
      "cell_type": "code",
      "source": [
        "from sklearn.model_selection import cross_val_score\n"
      ],
      "metadata": {
        "id": "laOQdQGJEfMG"
      },
      "execution_count": 27,
      "outputs": []
    },
    {
      "cell_type": "markdown",
      "source": [
        "For logisitic regression"
      ],
      "metadata": {
        "id": "pceO-GblEjL4"
      }
    },
    {
      "cell_type": "code",
      "source": [
        "cross_val_score(LogisticRegression(solver='liblinear',multi_class='ovr'), digits.data, digits.target,cv=3)\n"
      ],
      "metadata": {
        "colab": {
          "base_uri": "https://localhost:8080/"
        },
        "id": "s2y96s8-Ei0m",
        "outputId": "76544fe8-691c-47ed-9e2a-8f7ac9422f9f"
      },
      "execution_count": 28,
      "outputs": [
        {
          "output_type": "execute_result",
          "data": {
            "text/plain": [
              "array([0.89482471, 0.95325543, 0.90984975])"
            ]
          },
          "metadata": {},
          "execution_count": 28
        }
      ]
    },
    {
      "cell_type": "markdown",
      "source": [
        "svm model performance using cross_val_score\n",
        "\n"
      ],
      "metadata": {
        "id": "VpIZKkMmEoGu"
      }
    },
    {
      "cell_type": "code",
      "source": [
        "cross_val_score(SVC(gamma='auto'), digits.data, digits.target,cv=3)"
      ],
      "metadata": {
        "colab": {
          "base_uri": "https://localhost:8080/"
        },
        "id": "FSfKuVMhEmtu",
        "outputId": "3ece75ef-82e5-46ce-a3d6-79ed8b89e98e"
      },
      "execution_count": 30,
      "outputs": [
        {
          "output_type": "execute_result",
          "data": {
            "text/plain": [
              "array([0.38063439, 0.41068447, 0.51252087])"
            ]
          },
          "metadata": {},
          "execution_count": 30
        }
      ]
    },
    {
      "cell_type": "markdown",
      "source": [
        "For random forest"
      ],
      "metadata": {
        "id": "gfthARVaE263"
      }
    },
    {
      "cell_type": "code",
      "source": [
        "cross_val_score(RandomForestClassifier(n_estimators=40),digits.data, digits.target,cv=3) # with 40"
      ],
      "metadata": {
        "colab": {
          "base_uri": "https://localhost:8080/"
        },
        "id": "O2K0z44qE4hl",
        "outputId": "827c5e5d-b866-447d-88f8-dd3dfdcbaa1c"
      },
      "execution_count": 33,
      "outputs": [
        {
          "output_type": "execute_result",
          "data": {
            "text/plain": [
              "array([0.92988314, 0.94657763, 0.9148581 ])"
            ]
          },
          "metadata": {},
          "execution_count": 33
        }
      ]
    },
    {
      "cell_type": "code",
      "source": [
        "cross_val_score(RandomForestClassifier(n_estimators=50),digits.data, digits.target,cv=3)# with 50 trees\n",
        "\n",
        "# you can tune so that you can find various ways."
      ],
      "metadata": {
        "colab": {
          "base_uri": "https://localhost:8080/"
        },
        "id": "4UaD1zdKFEt-",
        "outputId": "e75cabce-52ec-4b40-d1d2-c0a4a6a746e4"
      },
      "execution_count": 32,
      "outputs": [
        {
          "output_type": "execute_result",
          "data": {
            "text/plain": [
              "array([0.92487479, 0.94490818, 0.92654424])"
            ]
          },
          "metadata": {},
          "execution_count": 32
        }
      ]
    },
    {
      "cell_type": "code",
      "source": [
        ""
      ],
      "metadata": {
        "id": "37l42MeuFRnG"
      },
      "execution_count": null,
      "outputs": []
    }
  ]
}