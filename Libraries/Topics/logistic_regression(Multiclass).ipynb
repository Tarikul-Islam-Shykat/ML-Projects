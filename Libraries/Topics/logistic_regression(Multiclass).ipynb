{
  "nbformat": 4,
  "nbformat_minor": 0,
  "metadata": {
    "colab": {
      "name": "logistic regression(Multiclass).ipynb",
      "provenance": []
    },
    "kernelspec": {
      "name": "python3",
      "display_name": "Python 3"
    },
    "language_info": {
      "name": "python"
    }
  },
  "cells": [
    {
      "cell_type": "code",
      "source": [
        "from sklearn.datasets import load_digits"
      ],
      "metadata": {
        "id": "qq_wMq4cJlGl"
      },
      "execution_count": 2,
      "outputs": []
    },
    {
      "cell_type": "code",
      "source": [
        "import matplotlib.pyplot as plt\n",
        "digits = load_digits()"
      ],
      "metadata": {
        "id": "ARAgyQreJoL7"
      },
      "execution_count": 3,
      "outputs": []
    },
    {
      "cell_type": "code",
      "source": [
        "# what this training set contain\n",
        "dir(digits)"
      ],
      "metadata": {
        "colab": {
          "base_uri": "https://localhost:8080/"
        },
        "id": "GHZ190ZEJ3eE",
        "outputId": "d6100e01-d765-4dfc-d286-aff996d63b13"
      },
      "execution_count": 4,
      "outputs": [
        {
          "output_type": "execute_result",
          "data": {
            "text/plain": [
              "['DESCR', 'data', 'feature_names', 'frame', 'images', 'target', 'target_names']"
            ]
          },
          "metadata": {},
          "execution_count": 4
        }
      ]
    },
    {
      "cell_type": "code",
      "source": [
        "plt.gray() \n",
        "for i in range(3):\n",
        "    plt.matshow(digits.images[i]) "
      ],
      "metadata": {
        "colab": {
          "base_uri": "https://localhost:8080/",
          "height": 809
        },
        "id": "78le8ZX7KMRb",
        "outputId": "8613799e-2c69-4bad-fe54-e4b1cb54c594"
      },
      "execution_count": 5,
      "outputs": [
        {
          "output_type": "display_data",
          "data": {
            "text/plain": [
              "<Figure size 432x288 with 0 Axes>"
            ]
          },
          "metadata": {}
        },
        {
          "output_type": "display_data",
          "data": {
            "text/plain": [
              "<Figure size 288x288 with 1 Axes>"
            ],
            "image/png": "[encoded data removed]"
          },
          "metadata": {
            "needs_background": "light"
          }
        },
        {
          "output_type": "display_data",
          "data": {
            "text/plain": [
              "<Figure size 288x288 with 1 Axes>"
            ],
            "image/png": "[encoded data removed]"
          },
          "metadata": {
            "needs_background": "light"
          }
        },
        {
          "output_type": "display_data",
          "data": {
            "text/plain": [
              "<Figure size 288x288 with 1 Axes>"
            ],
            "image/png": "[encoded data removed]"
          },
          "metadata": {
            "needs_background": "light"
          }
        }
      ]
    },
    {
      "cell_type": "code",
      "source": [
        "digits.target[0:3] # target actually representing the the code image matrix. "
      ],
      "metadata": {
        "colab": {
          "base_uri": "https://localhost:8080/"
        },
        "id": "o_MWZnqTKzb0",
        "outputId": "fba843ce-e3dc-4113-b3df-3fd8afbd90b8"
      },
      "execution_count": 6,
      "outputs": [
        {
          "output_type": "execute_result",
          "data": {
            "text/plain": [
              "array([0, 1, 2])"
            ]
          },
          "metadata": {},
          "execution_count": 6
        }
      ]
    },
    {
      "cell_type": "markdown",
      "source": [
        "**Import**"
      ],
      "metadata": {
        "id": "6Yt4iI-5LGcD"
      }
    },
    {
      "cell_type": "code",
      "source": [
        "from sklearn.linear_model import LogisticRegression\n",
        "model = LogisticRegression()"
      ],
      "metadata": {
        "id": "HTPlU8ooLBxL"
      },
      "execution_count": 7,
      "outputs": []
    },
    {
      "cell_type": "markdown",
      "source": [
        "**Split**"
      ],
      "metadata": {
        "id": "X8dMAVxyLJlz"
      }
    },
    {
      "cell_type": "code",
      "source": [
        "from sklearn.model_selection import train_test_split\n",
        "X_train, X_test, y_train, y_test = train_test_split(digits.data,digits.target, test_size=0.2)"
      ],
      "metadata": {
        "id": "bQ20AHWcLJN7"
      },
      "execution_count": 8,
      "outputs": []
    },
    {
      "cell_type": "markdown",
      "source": [
        "**Feed / train**"
      ],
      "metadata": {
        "id": "pMonCM2PLRGM"
      }
    },
    {
      "cell_type": "code",
      "source": [
        "model.fit(X_train, y_train)"
      ],
      "metadata": {
        "colab": {
          "base_uri": "https://localhost:8080/"
        },
        "id": "m2BfejK0LUIT",
        "outputId": "eb6a4ba6-df36-418c-a7cb-c609ffe4b5f6"
      },
      "execution_count": 9,
      "outputs": [
        {
          "output_type": "stream",
          "name": "stderr",
          "text": [
            "/usr/local/lib/python3.7/dist-packages/sklearn/linear_model/_logistic.py:818: ConvergenceWarning: lbfgs failed to converge (status=1):\n",
            "STOP: TOTAL NO. of ITERATIONS REACHED LIMIT.\n",
            "\n",
            "Increase the number of iterations (max_iter) or scale the data as shown in:\n",
            "    https://scikit-learn.org/stable/modules/preprocessing.html\n",
            "Please also refer to the documentation for alternative solver options:\n",
            "    https://scikit-learn.org/stable/modules/linear_model.html#logistic-regression\n",
            "  extra_warning_msg=_LOGISTIC_SOLVER_CONVERGENCE_MSG,\n"
          ]
        },
        {
          "output_type": "execute_result",
          "data": {
            "text/plain": [
              "LogisticRegression()"
            ]
          },
          "metadata": {},
          "execution_count": 9
        }
      ]
    },
    {
      "cell_type": "markdown",
      "source": [
        "**Prediction**"
      ],
      "metadata": {
        "id": "6mK3bQtVLa81"
      }
    },
    {
      "cell_type": "code",
      "source": [
        "model.predict( X_test)"
      ],
      "metadata": {
        "colab": {
          "base_uri": "https://localhost:8080/"
        },
        "id": "iGBmyWiELaG-",
        "outputId": "93461c37-4327-474c-feec-9578020a8d6b"
      },
      "execution_count": 10,
      "outputs": [
        {
          "output_type": "execute_result",
          "data": {
            "text/plain": [
              "array([1, 8, 6, 8, 3, 9, 9, 7, 7, 9, 9, 4, 7, 7, 9, 9, 3, 7, 2, 4, 4, 8,\n",
              "       5, 6, 3, 1, 5, 6, 3, 5, 9, 3, 7, 8, 4, 4, 2, 8, 4, 3, 0, 7, 2, 4,\n",
              "       9, 1, 2, 6, 1, 3, 7, 2, 2, 2, 4, 4, 0, 6, 3, 4, 8, 2, 5, 5, 3, 2,\n",
              "       6, 9, 0, 0, 1, 6, 0, 0, 3, 0, 6, 3, 1, 2, 3, 9, 4, 0, 7, 3, 2, 1,\n",
              "       5, 9, 7, 4, 9, 4, 4, 2, 4, 8, 7, 2, 3, 5, 1, 6, 8, 1, 3, 6, 0, 5,\n",
              "       7, 8, 5, 9, 7, 3, 1, 2, 0, 8, 9, 4, 0, 2, 4, 0, 7, 9, 6, 6, 8, 1,\n",
              "       9, 8, 3, 9, 9, 8, 0, 4, 9, 8, 1, 6, 7, 5, 4, 8, 3, 0, 6, 2, 3, 9,\n",
              "       3, 0, 1, 5, 8, 8, 4, 7, 1, 1, 0, 4, 3, 3, 7, 1, 3, 2, 3, 0, 2, 7,\n",
              "       9, 3, 2, 7, 0, 6, 4, 1, 6, 1, 6, 1, 9, 8, 1, 1, 6, 2, 7, 9, 2, 3,\n",
              "       1, 5, 1, 8, 4, 3, 3, 3, 8, 6, 8, 8, 2, 7, 7, 9, 3, 8, 7, 4, 1, 5,\n",
              "       5, 4, 9, 9, 5, 7, 0, 1, 9, 1, 5, 4, 6, 2, 9, 5, 8, 2, 0, 9, 1, 5,\n",
              "       1, 0, 0, 8, 3, 5, 0, 2, 2, 0, 0, 8, 9, 3, 9, 8, 5, 4, 7, 6, 4, 6,\n",
              "       5, 4, 7, 5, 3, 3, 3, 1, 1, 6, 9, 9, 8, 9, 1, 6, 3, 0, 5, 6, 4, 1,\n",
              "       3, 4, 4, 2, 2, 6, 3, 1, 8, 9, 6, 8, 4, 0, 9, 7, 7, 9, 1, 8, 7, 4,\n",
              "       0, 1, 4, 3, 8, 4, 4, 7, 9, 6, 3, 5, 1, 4, 0, 7, 7, 7, 6, 3, 5, 2,\n",
              "       9, 8, 7, 5, 1, 8, 8, 5, 6, 6, 7, 4, 2, 5, 1, 2, 7, 0, 4, 2, 5, 1,\n",
              "       9, 0, 5, 5, 9, 4, 4, 5])"
            ]
          },
          "metadata": {},
          "execution_count": 10
        }
      ]
    },
    {
      "cell_type": "markdown",
      "source": [
        "**Accuracy**"
      ],
      "metadata": {
        "id": "9QzR1PdfLuRV"
      }
    },
    {
      "cell_type": "code",
      "source": [
        "model.score(X_test, y_test)\n"
      ],
      "metadata": {
        "colab": {
          "base_uri": "https://localhost:8080/"
        },
        "id": "AeQyT_dCLtMk",
        "outputId": "cc41b424-218c-4e0a-82d5-e2529e5e5449"
      },
      "execution_count": 11,
      "outputs": [
        {
          "output_type": "execute_result",
          "data": {
            "text/plain": [
              "0.9694444444444444"
            ]
          },
          "metadata": {},
          "execution_count": 11
        }
      ]
    },
    {
      "cell_type": "markdown",
      "source": [
        "Manual check"
      ],
      "metadata": {
        "id": "rhbpMFBIc9g3"
      }
    },
    {
      "cell_type": "code",
      "source": [
        "plt.matshow(digits.images[67])"
      ],
      "metadata": {
        "colab": {
          "base_uri": "https://localhost:8080/",
          "height": 293
        },
        "id": "KwEIfXtndAE-",
        "outputId": "633c1ff2-737e-4e3c-b058-fd2c11ae768e"
      },
      "execution_count": 12,
      "outputs": [
        {
          "output_type": "execute_result",
          "data": {
            "text/plain": [
              "<matplotlib.image.AxesImage at 0x7f538cbeaa10>"
            ]
          },
          "metadata": {},
          "execution_count": 12
        },
        {
          "output_type": "display_data",
          "data": {
            "text/plain": [
              "<Figure size 288x288 with 1 Axes>"
            ],
            "image/png": "[encoded data removed]"
          },
          "metadata": {
            "needs_background": "light"
          }
        }
      ]
    },
    {
      "cell_type": "code",
      "source": [
        "# the above number is\n",
        "digits.target[67]"
      ],
      "metadata": {
        "colab": {
          "base_uri": "https://localhost:8080/"
        },
        "id": "yc1ReSCFdH4u",
        "outputId": "f74e0c2c-792e-43ba-cdc9-6ecdc96f7c4d"
      },
      "execution_count": 13,
      "outputs": [
        {
          "output_type": "execute_result",
          "data": {
            "text/plain": [
              "6"
            ]
          },
          "metadata": {},
          "execution_count": 13
        }
      ]
    },
    {
      "cell_type": "markdown",
      "source": [
        "You saw your model accuracy is 96% , if you really want to see in which part your model is not doing good, you can check using confusion matrix."
      ],
      "metadata": {
        "id": "u5Afd-UX568p"
      }
    },
    {
      "cell_type": "code",
      "source": [
        "# get the predicted value 1st,\n",
        "y_predicted = model.predict(X_test)\n",
        "\n",
        "from sklearn.metrics import confusion_matrix\n",
        "cm = confusion_matrix(y_test, y_predicted)\n",
        "cm"
      ],
      "metadata": {
        "colab": {
          "base_uri": "https://localhost:8080/"
        },
        "id": "OSgb1RTD6IvQ",
        "outputId": "ded98417-4379-44e1-ff19-ae6cbbb0c1ec"
      },
      "execution_count": 14,
      "outputs": [
        {
          "output_type": "execute_result",
          "data": {
            "text/plain": [
              "array([[31,  0,  0,  0,  0,  0,  0,  0,  0,  0],\n",
              "       [ 0, 39,  0,  0,  0,  0,  0,  0,  0,  1],\n",
              "       [ 0,  0, 29,  0,  0,  0,  0,  0,  0,  0],\n",
              "       [ 0,  0,  0, 40,  0,  1,  0,  0,  0,  0],\n",
              "       [ 0,  0,  0,  0, 42,  0,  0,  1,  1,  0],\n",
              "       [ 0,  0,  1,  0,  0, 30,  0,  0,  0,  1],\n",
              "       [ 0,  0,  0,  0,  0,  0, 31,  0,  0,  0],\n",
              "       [ 0,  0,  0,  0,  0,  0,  0, 35,  0,  0],\n",
              "       [ 0,  0,  2,  0,  0,  0,  0,  0, 33,  0],\n",
              "       [ 0,  0,  0,  1,  0,  1,  0,  0,  1, 39]])"
            ]
          },
          "metadata": {},
          "execution_count": 14
        }
      ]
    },
    {
      "cell_type": "markdown",
      "source": [
        "to visualize the data more"
      ],
      "metadata": {
        "id": "UjFNa2vp6hDY"
      }
    },
    {
      "cell_type": "code",
      "source": [
        "import seaborn as sn\n",
        "plt.figure(figsize = (10,7))\n",
        "sn.heatmap(cm, annot=True)\n",
        "plt.xlabel('Predicted')\n",
        "plt.ylabel('Truth')"
      ],
      "metadata": {
        "colab": {
          "base_uri": "https://localhost:8080/",
          "height": 460
        },
        "id": "tL-ioRhn6kbg",
        "outputId": "f6a30ba9-05ea-43dc-ffd4-1a397828d895"
      },
      "execution_count": 15,
      "outputs": [
        {
          "output_type": "execute_result",
          "data": {
            "text/plain": [
              "Text(69.0, 0.5, 'Truth')"
            ]
          },
          "metadata": {},
          "execution_count": 15
        },
        {
          "output_type": "display_data",
          "data": {
            "text/plain": [
              "<Figure size 720x504 with 2 Axes>"
            ],
            "image/png": "[encoded data removed]"
          },
          "metadata": {
            "needs_background": "light"
          }
        }
      ]
    },
    {
      "cell_type": "markdown",
      "source": [
        "what this means actually, this means that \\\n",
        "8(y-axis) , 2(x-axis) > the common value is 2 , which means that \\\n",
        "our model has predicted 2 instead of 8 2 times."
      ],
      "metadata": {
        "id": "twiib6TV7j0Q"
      }
    }
  ]
}