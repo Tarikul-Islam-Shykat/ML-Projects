{
  "nbformat": 4,
  "nbformat_minor": 0,
  "metadata": {
    "colab": {
      "provenance": []
    },
    "kernelspec": {
      "name": "python3",
      "display_name": "Python 3"
    },
    "language_info": {
      "name": "python"
    }
  },
  "cells": [
    {
      "cell_type": "markdown",
      "source": [
        "# Install And Import dependency"
      ],
      "metadata": {
        "id": "uUF8o2aFIVzQ"
      }
    },
    {
      "cell_type": "code",
      "execution_count": 1,
      "metadata": {
        "colab": {
          "base_uri": "https://localhost:8080/"
        },
        "id": "LgMCqHI6HOK4",
        "outputId": "e2c35657-8676-49cc-9f06-321916aaafb3"
      },
      "outputs": [
        {
          "output_type": "stream",
          "name": "stdout",
          "text": [
            "Looking in indexes: https://pypi.org/simple, https://us-python.pkg.dev/colab-wheels/public/simple/\n",
            "Looking in links: https://download.pytorch.org/whl/torch_stable.html\n",
            "Collecting torch==1.8.1+cu111\n",
            "  Downloading https://download.pytorch.org/whl/cu111/torch-1.8.1%2Bcu111-cp39-cp39-linux_x86_64.whl (1982.2 MB)\n",
            "\u001b[2K     \u001b[90m━━━━━━━━━━━━━━━━━━━━━━━━━━━━━━━━━━━━━━━━\u001b[0m \u001b[32m2.0/2.0 GB\u001b[0m \u001b[31m832.9 kB/s\u001b[0m eta \u001b[36m0:00:00\u001b[0m\n",
            "\u001b[?25hCollecting torchvision==0.9.1+cu111\n",
            "  Downloading https://download.pytorch.org/whl/cu111/torchvision-0.9.1%2Bcu111-cp39-cp39-linux_x86_64.whl (17.6 MB)\n",
            "\u001b[2K     \u001b[90m━━━━━━━━━━━━━━━━━━━━━━━━━━━━━━━━━━━━━━━━\u001b[0m \u001b[32m17.6/17.6 MB\u001b[0m \u001b[31m72.4 MB/s\u001b[0m eta \u001b[36m0:00:00\u001b[0m\n",
            "\u001b[?25hCollecting torchaudio===0.8.1\n",
            "  Downloading torchaudio-0.8.1-cp39-cp39-manylinux1_x86_64.whl (1.9 MB)\n",
            "\u001b[2K     \u001b[90m━━━━━━━━━━━━━━━━━━━━━━━━━━━━━━━━━━━━━━━━\u001b[0m \u001b[32m1.9/1.9 MB\u001b[0m \u001b[31m36.3 MB/s\u001b[0m eta \u001b[36m0:00:00\u001b[0m\n",
            "\u001b[?25hRequirement already satisfied: numpy in /usr/local/lib/python3.9/dist-packages (from torch==1.8.1+cu111) (1.22.4)\n",
            "Requirement already satisfied: typing-extensions in /usr/local/lib/python3.9/dist-packages (from torch==1.8.1+cu111) (4.5.0)\n",
            "Requirement already satisfied: pillow>=4.1.1 in /usr/local/lib/python3.9/dist-packages (from torchvision==0.9.1+cu111) (8.4.0)\n",
            "Installing collected packages: torch, torchvision, torchaudio\n",
            "  Attempting uninstall: torch\n",
            "    Found existing installation: torch 1.13.1+cu116\n",
            "    Uninstalling torch-1.13.1+cu116:\n",
            "      Successfully uninstalled torch-1.13.1+cu116\n",
            "  Attempting uninstall: torchvision\n",
            "    Found existing installation: torchvision 0.14.1+cu116\n",
            "    Uninstalling torchvision-0.14.1+cu116:\n",
            "      Successfully uninstalled torchvision-0.14.1+cu116\n",
            "  Attempting uninstall: torchaudio\n",
            "    Found existing installation: torchaudio 0.13.1+cu116\n",
            "    Uninstalling torchaudio-0.13.1+cu116:\n",
            "      Successfully uninstalled torchaudio-0.13.1+cu116\n",
            "\u001b[31mERROR: pip's dependency resolver does not currently take into account all the packages that are installed. This behaviour is the source of the following dependency conflicts.\n",
            "torchtext 0.14.1 requires torch==1.13.1, but you have torch 1.8.1+cu111 which is incompatible.\u001b[0m\u001b[31m\n",
            "\u001b[0mSuccessfully installed torch-1.8.1+cu111 torchaudio-0.8.1 torchvision-0.9.1+cu111\n"
          ]
        }
      ],
      "source": [
        "!pip install torch==1.8.1+cu111 torchvision==0.9.1+cu111 torchaudio===0.8.1 -f https://download.pytorch.org/whl/torch_stable.html\n"
      ]
    },
    {
      "cell_type": "code",
      "source": [
        "!pip install transformers requests beautifulsoup4 pandas numpy"
      ],
      "metadata": {
        "colab": {
          "base_uri": "https://localhost:8080/"
        },
        "id": "H5LaFG4vIEMV",
        "outputId": "b73b67cc-a047-4b3f-ca38-2c344766a58a"
      },
      "execution_count": 2,
      "outputs": [
        {
          "output_type": "stream",
          "name": "stdout",
          "text": [
            "Looking in indexes: https://pypi.org/simple, https://us-python.pkg.dev/colab-wheels/public/simple/\n",
            "Collecting transformers\n",
            "  Downloading transformers-4.27.3-py3-none-any.whl (6.8 MB)\n",
            "\u001b[2K     \u001b[90m━━━━━━━━━━━━━━━━━━━━━━━━━━━━━━━━━━━━━━━━\u001b[0m \u001b[32m6.8/6.8 MB\u001b[0m \u001b[31m66.1 MB/s\u001b[0m eta \u001b[36m0:00:00\u001b[0m\n",
            "\u001b[?25hRequirement already satisfied: requests in /usr/local/lib/python3.9/dist-packages (2.27.1)\n",
            "Requirement already satisfied: beautifulsoup4 in /usr/local/lib/python3.9/dist-packages (4.11.2)\n",
            "Requirement already satisfied: pandas in /usr/local/lib/python3.9/dist-packages (1.4.4)\n",
            "Requirement already satisfied: numpy in /usr/local/lib/python3.9/dist-packages (1.22.4)\n",
            "Requirement already satisfied: pyyaml>=5.1 in /usr/local/lib/python3.9/dist-packages (from transformers) (6.0)\n",
            "Requirement already satisfied: filelock in /usr/local/lib/python3.9/dist-packages (from transformers) (3.10.1)\n",
            "Requirement already satisfied: packaging>=20.0 in /usr/local/lib/python3.9/dist-packages (from transformers) (23.0)\n",
            "Collecting huggingface-hub<1.0,>=0.11.0\n",
            "  Downloading huggingface_hub-0.13.3-py3-none-any.whl (199 kB)\n",
            "\u001b[2K     \u001b[90m━━━━━━━━━━━━━━━━━━━━━━━━━━━━━━━━━━━━━━\u001b[0m \u001b[32m199.8/199.8 KB\u001b[0m \u001b[31m26.3 MB/s\u001b[0m eta \u001b[36m0:00:00\u001b[0m\n",
            "\u001b[?25hCollecting tokenizers!=0.11.3,<0.14,>=0.11.1\n",
            "  Downloading tokenizers-0.13.2-cp39-cp39-manylinux_2_17_x86_64.manylinux2014_x86_64.whl (7.6 MB)\n",
            "\u001b[2K     \u001b[90m━━━━━━━━━━━━━━━━━━━━━━━━━━━━━━━━━━━━━━━━\u001b[0m \u001b[32m7.6/7.6 MB\u001b[0m \u001b[31m94.7 MB/s\u001b[0m eta \u001b[36m0:00:00\u001b[0m\n",
            "\u001b[?25hRequirement already satisfied: tqdm>=4.27 in /usr/local/lib/python3.9/dist-packages (from transformers) (4.65.0)\n",
            "Requirement already satisfied: regex!=2019.12.17 in /usr/local/lib/python3.9/dist-packages (from transformers) (2022.10.31)\n",
            "Requirement already satisfied: idna<4,>=2.5 in /usr/local/lib/python3.9/dist-packages (from requests) (3.4)\n",
            "Requirement already satisfied: urllib3<1.27,>=1.21.1 in /usr/local/lib/python3.9/dist-packages (from requests) (1.26.15)\n",
            "Requirement already satisfied: charset-normalizer~=2.0.0 in /usr/local/lib/python3.9/dist-packages (from requests) (2.0.12)\n",
            "Requirement already satisfied: certifi>=2017.4.17 in /usr/local/lib/python3.9/dist-packages (from requests) (2022.12.7)\n",
            "Requirement already satisfied: soupsieve>1.2 in /usr/local/lib/python3.9/dist-packages (from beautifulsoup4) (2.4)\n",
            "Requirement already satisfied: python-dateutil>=2.8.1 in /usr/local/lib/python3.9/dist-packages (from pandas) (2.8.2)\n",
            "Requirement already satisfied: pytz>=2020.1 in /usr/local/lib/python3.9/dist-packages (from pandas) (2022.7.1)\n",
            "Requirement already satisfied: typing-extensions>=3.7.4.3 in /usr/local/lib/python3.9/dist-packages (from huggingface-hub<1.0,>=0.11.0->transformers) (4.5.0)\n",
            "Requirement already satisfied: six>=1.5 in /usr/local/lib/python3.9/dist-packages (from python-dateutil>=2.8.1->pandas) (1.16.0)\n",
            "Installing collected packages: tokenizers, huggingface-hub, transformers\n",
            "Successfully installed huggingface-hub-0.13.3 tokenizers-0.13.2 transformers-4.27.3\n"
          ]
        }
      ]
    },
    {
      "cell_type": "code",
      "source": [
        "from transformers import AutoTokenizer, AutoModelForSequenceClassification\n",
        "import torch\n",
        "import requests\n",
        "from bs4 import BeautifulSoup\n",
        "import re"
      ],
      "metadata": {
        "id": "Cl9iW2JaIbff"
      },
      "execution_count": 3,
      "outputs": []
    },
    {
      "cell_type": "markdown",
      "source": [
        "\n",
        "\n",
        "1.   Beautiful Soup is going to help to extact data from the reviews\n",
        "2.   \n",
        "\n"
      ],
      "metadata": {
        "id": "oV2o2Fq1JUPj"
      }
    },
    {
      "cell_type": "markdown",
      "source": [
        "# Instantiate Model"
      ],
      "metadata": {
        "id": "45rjVX8wIU8g"
      }
    },
    {
      "cell_type": "code",
      "source": [
        "tokenizer = AutoTokenizer.from_pretrained('nlptown/bert-base-multilingual-uncased-sentiment')\n",
        "model = AutoModelForSequenceClassification.from_pretrained('nlptown/bert-base-multilingual-uncased-sentiment')\n"
      ],
      "metadata": {
        "id": "HYOZS_LqIrXo"
      },
      "execution_count": null,
      "outputs": []
    },
    {
      "cell_type": "markdown",
      "source": [
        "# Encode and Calculate Sentiment"
      ],
      "metadata": {
        "id": "czUKn3HpIok3"
      }
    },
    {
      "cell_type": "code",
      "source": [
        "tokens = tokenizer.encode('It was good but couldve been better. Great', return_tensors='pt')"
      ],
      "metadata": {
        "id": "WbOpTNtUI2WR"
      },
      "execution_count": 5,
      "outputs": []
    },
    {
      "cell_type": "code",
      "source": [
        "tokens[0] # tokenizer is parsing the text into sequence of number "
      ],
      "metadata": {
        "colab": {
          "base_uri": "https://localhost:8080/"
        },
        "id": "d54VxHjRKS7n",
        "outputId": "8e91fcf7-cb23-44f4-98a2-f2ad4812f8d8"
      },
      "execution_count": 11,
      "outputs": [
        {
          "output_type": "execute_result",
          "data": {
            "text/plain": [
              "tensor([  101, 10197, 10140, 12050, 10502, 12296, 10598, 10662, 16197,   119,\n",
              "        11838,   102])"
            ]
          },
          "metadata": {},
          "execution_count": 11
        }
      ]
    },
    {
      "cell_type": "code",
      "source": [
        "# to re convert the token to sentence\n",
        "tokenizer.decode(tokens[0])"
      ],
      "metadata": {
        "colab": {
          "base_uri": "https://localhost:8080/",
          "height": 35
        },
        "id": "fyTGQNOaKg1g",
        "outputId": "6925eb01-d4e5-4114-f1a2-2e52e90cd863"
      },
      "execution_count": 14,
      "outputs": [
        {
          "output_type": "execute_result",
          "data": {
            "text/plain": [
              "'[CLS] it was good but couldve been better. great [SEP]'"
            ],
            "application/vnd.google.colaboratory.intrinsic+json": {
              "type": "string"
            }
          },
          "metadata": {},
          "execution_count": 14
        }
      ]
    },
    {
      "cell_type": "code",
      "source": [
        "result = model(tokens) # passsing the tokens to the model \n",
        "print(result)"
      ],
      "metadata": {
        "colab": {
          "base_uri": "https://localhost:8080/"
        },
        "id": "X7mm2sqmI30y",
        "outputId": "885fa184-a8ef-4835-a7a9-86a8c5077938"
      },
      "execution_count": 16,
      "outputs": [
        {
          "output_type": "stream",
          "name": "stdout",
          "text": [
            "SequenceClassifierOutput(loss=None, logits=tensor([[-2.7768, -1.2353,  1.4419,  1.9804,  0.4584]],\n",
            "       grad_fn=<AddmmBackward>), hidden_states=None, attentions=None)\n"
          ]
        }
      ]
    },
    {
      "cell_type": "markdown",
      "source": [
        "the values in the 'logits=tensor([[-2.7768, -1.2353,  1.4419,  1.9804,  0.4584]] ' represents the probabilty of a particular class being the sentiment."
      ],
      "metadata": {
        "id": "Cvs8ZlmULBNh"
      }
    },
    {
      "cell_type": "code",
      "source": [
        "result.logits"
      ],
      "metadata": {
        "colab": {
          "base_uri": "https://localhost:8080/"
        },
        "id": "-5_EPRnrI5Ch",
        "outputId": "0d90ebfa-179f-4d02-d4b2-b17db4edd3da"
      },
      "execution_count": 7,
      "outputs": [
        {
          "output_type": "execute_result",
          "data": {
            "text/plain": [
              "tensor([[-2.7768, -1.2353,  1.4419,  1.9804,  0.4584]],\n",
              "       grad_fn=<AddmmBackward>)"
            ]
          },
          "metadata": {},
          "execution_count": 7
        }
      ]
    },
    {
      "cell_type": "code",
      "source": [
        "int(torch.argmax(result.logits))+1 # torch.argmax returns the highest value.\n",
        "# we have value ranging between 1,2,3,4 \n",
        "# the higher the number, the better it is. "
      ],
      "metadata": {
        "colab": {
          "base_uri": "https://localhost:8080/"
        },
        "id": "kKigw-BlI-45",
        "outputId": "35afc00f-ffb0-4642-cd24-e255719e6781"
      },
      "execution_count": 18,
      "outputs": [
        {
          "output_type": "execute_result",
          "data": {
            "text/plain": [
              "4"
            ]
          },
          "metadata": {},
          "execution_count": 18
        }
      ]
    },
    {
      "cell_type": "markdown",
      "source": [
        "# Collect Reviews"
      ],
      "metadata": {
        "id": "dzmk8wtuJA6S"
      }
    },
    {
      "cell_type": "code",
      "source": [
        "r = requests.get('https://www.yelp.com/biz/social-brew-cafe-pyrmont')\n",
        "soup = BeautifulSoup(r.text, 'html.parser')\n",
        "regex = re.compile('.*comment.*')\n",
        "results = soup.find_all('p', {'class':regex})\n",
        "reviews = [result.text for result in results]"
      ],
      "metadata": {
        "id": "jw3cqZ1hJAUC"
      },
      "execution_count": 19,
      "outputs": []
    },
    {
      "cell_type": "code",
      "source": [
        "results[0].text"
      ],
      "metadata": {
        "colab": {
          "base_uri": "https://localhost:8080/",
          "height": 35
        },
        "id": "FryXdjdiRsNU",
        "outputId": "654efeb8-03f7-4542-ac94-4881fccb119a"
      },
      "execution_count": 24,
      "outputs": [
        {
          "output_type": "execute_result",
          "data": {
            "text/plain": [
              "'Great food amazing coffee and tea. Short walk from the harbor. Staff was very friendly'"
            ],
            "application/vnd.google.colaboratory.intrinsic+json": {
              "type": "string"
            }
          },
          "metadata": {},
          "execution_count": 24
        }
      ]
    },
    {
      "cell_type": "code",
      "source": [
        "soup.find_all('p', {'class':regex}) # wrapped in a p tag has a comment. "
      ],
      "metadata": {
        "colab": {
          "base_uri": "https://localhost:8080/"
        },
        "id": "edvZsjcnRard",
        "outputId": "efd5218e-9c54-47b9-b980-1b958c75be92"
      },
      "execution_count": 23,
      "outputs": [
        {
          "output_type": "execute_result",
          "data": {
            "text/plain": [
              "[<p class=\"comment__09f24__gu0rG css-qgunke\"><span class=\"raw__09f24__T4Ezm\" lang=\"en\">Great food amazing coffee and tea. Short walk from the harbor. Staff was very friendly</span></p>,\n",
              " <p class=\"comment__09f24__gu0rG css-qgunke\"><span class=\"raw__09f24__T4Ezm\" lang=\"en\">Great staff and food.  Must try is the pan fried Gnocchi!  The staff were really friendly and the coffee was good as well</span></p>,\n",
              " <p class=\"comment__09f24__gu0rG css-qgunke\"><span class=\"raw__09f24__T4Ezm\" lang=\"en\">Ricotta hot cakes! These were so yummy. I ate them pretty fast and didn't share with anyone because they were that good ;). <br/><br/>I ordered a green smoothie to balance it all out. Smoothie was a nice way to end my brekkie at this restaurant. <br/><br/>Others with me ordered the salmon Benedict and the smoked salmon flatbread. They were all delicious and all plates were empty. <br/><br/>Cheers!</span></p>,\n",
              " <p class=\"comment__09f24__gu0rG css-qgunke\"><span class=\"raw__09f24__T4Ezm\" lang=\"en\">I came to Social brew cafe for brunch while exploring the city and on my way to the aquarium. I sat outside. The service was great and the food was good too!<br/><br/>I ordered smoked salmon, truffle fries, black coffee and beer.</span></p>,\n",
              " <p class=\"comment__09f24__gu0rG css-qgunke\"><span class=\"raw__09f24__T4Ezm\" lang=\"en\">We came for brunch twice in our week-long visit to Sydney. Everything on the menu not only sounds delicious, but is really tasty. It really gave us a sour taste of how bad breaky is in America with what's so readily available in Sydney!  Both days we went were Saturdays and there was a bit of a wait to be seated, the cafe is extremely busy for both dine-in and take-away. Service is fairly quick and servers are all friendly. The location is in Surrey Hills a couple blocks away from the bustling touristy Darling Harbor.<br/>The green smoothie is very tasty and refreshing. We tried the smoked salmon salad, the soft shell crab tacos, ricotta hotcakes, and the breaky sandwich. All were delicious, well seasoned, and a solid amount of food for the price. A definite recommend for anyone's trip into Sydney!</span></p>,\n",
              " <p class=\"comment__09f24__gu0rG css-qgunke\"><span class=\"raw__09f24__T4Ezm\" lang=\"en\">It was ok. The coffee wasn't the best but it was fine. The relish on the breakfast roll was yum which did make it sing. So perhaps I just got a bad coffee but the food was good on my visit.</span></p>,\n",
              " <p class=\"comment__09f24__gu0rG css-qgunke\"><span class=\"raw__09f24__T4Ezm\" lang=\"en\">I went here a little while ago- a beautiful morning,<br/>a lovely little brew house on a quaint street corner- perfection.<br/><br/>I went to this cafe with my step-daughter Lucille.<br/>She was always raving about how great it was to her mother, so I thought it would be a nice idea to go here with her for her birthday... boy was I wrong.<br/><br/>She announced her hatred for me while I was waiting for my extra large iced frappé. It felt like hours of awkward silence once she said those four words; \"you're a low-life.\"<br/><br/>Was it in my mind, or was my drink taking ages to arrive? The hands on the clock didn't budge from the last time I glanced at them- 7:43AM, where the fuck is my drink?<br/><br/>\"Why do you always feel you have to be my friend? You're not my dad!\" She fired.<br/><br/>I could only sit there, my head facing down towards the floral tablecloth that lay beneath my quivering arms. The bullet lodged in my heart.<br/>I don't understand why she hates me so much; is it my jokes? The funny way I walk? The fact that I often scream myself awake in the mornings? I guess I'll never know.<br/><br/>The truth is, I don't really care about her that much at all. I'm only part of her family because her mother gives such great head. Other than that, she's essentially bat shit on the pavement; waiting for some other poor soul to step on her once I've divorced her mother. I can't say that to her though... at least not until her mother has let herself go.<br/><br/>Where the fuck is my drink?<br/><br/>The silence continued until the waiter brought over our coffees. <br/>About time!<br/><br/>\"That looks nice\" I said to her as she stirred her sugar into the light brown liquid.<br/><br/>\"Don't talk to me. You always try to talk to me even though you know you'll get nowhere. Why?\"<br/><br/>\"Because I want to get to know you, I'm part of your family now.\" I said in reply.<br/><br/>\"You're fucking gross and you only want to hang around me because you have no mates.\"<br/><br/>\"That isn't true, I have plenty of friends, they just all died in terrible accidents under mildly suspicious circumstances.\" I retorted, happy with my defence.<br/><br/>She sniggered, \"why did your last wife leave you anyways?\"<br/><br/>\"She wasn't happy with the way I used to curl up in the top-load washing machine and wait there until she unknowingly turned it on while I was in there. In my opinion, it saves time and water. Why have a shower and wash your clothes separately when you can do them simultaneously? I think she was angry because I didn't seperate the whites and the blacks\" I stated, as I took my first sip of delicious Iced Frappé. The cream at the top coating my top lip.<br/><br/>She replied, standing up and pushing in her chair, \"You're fucking mental. I'm leaving, if you come back home, I'm literally killing myself.\" She exited the cafe.<br/><br/>With the threat of suicide and the taste of coffee on my tongue, I left... alone.<br/><br/>Overall it's a lovely place, highly recommend it for anyone living in the Pyrmont area. Great atmosphere and wonderful staff.<br/><br/>Definitely coming back.<br/><br/>- 5 stars!!!</span></p>,\n",
              " <p class=\"comment__09f24__gu0rG css-qgunke\"><span class=\"raw__09f24__T4Ezm\" lang=\"en\">Great coffee and vibe. That's all  you need. Crab was outstanding but not good finger food like a taco should be. Really want to try the pork belly sandwich - looked excellent. <br/><br/>This became my go to breakfast place in Darling harbor. Had the avocado salmon salad breakfast and it was excellent. Service has been excellent.</span></p>,\n",
              " <p class=\"comment__09f24__gu0rG truncated__09f24__PrNXf css-qgunke\"><span class=\"raw__09f24__T4Ezm\" lang=\"en\">Great coffee and vibe. That's all  you need. Crab was outstanding but not good finger food like a taco should be. Really want to try the pork belly sandwich - looked excellent.</span></p>,\n",
              " <p class=\"comment__09f24__gu0rG css-qgunke\"><span class=\"raw__09f24__T4Ezm\" lang=\"en\">This place is a gem. The ambiance is to die for. The service is really nice. The coffee is a must. Ah I can still remember how that Ice Latte brought me back to life. <br/><br/>I ordered the Mushroom and parmesan bruschetta. It was delish, even though if I ever get it again, I will asked for my eggs over easy. <br/><br/>Bear and I both ordered the spiked Watermelon, passionfruit and pineapple juice. The spiked part was a joke, couldn't feel it or taste it. Whats the point then? If you offer something, really go for it. We sent them back for extra spike and it still came back pretty lame. <br/><br/>But I still recommend the place =)</span></p>,\n",
              " <p class=\"comment__09f24__gu0rG css-qgunke\"><span class=\"raw__09f24__T4Ezm\" lang=\"en\">Ron &amp; Jo are on the go down under and Wow!  We've found our breakfast place in Sydney and are coming back before we leave!   I yelped you the Social Brew Cafe which was a few blocks from where we are staying so off we went.  They have seating outside and inside and it was a little chilly and they had a table available inside so we grabbed it.  The menu has a lot of tantalizing choices and our very nice waitress made some suggestions that we took.  Jo went with the ricotta pancakes with iced tea and I ordered the smoked salmon with a macchiato.  Our drinks were served quickly and my wife's crimson iced tea had a nice flavor and macchiato was served dark and rich.  Jo's pancakes came with a liberal number of fresh strawberries and the ricotta was spread between the first and second pancake with a pistachio butter (lots of ground pistachios) in between the second and third cake.  These pancakes were well presented and so delicious!  Jo order a side of bacon which was a crispy generous Canadian bacon that was so also tasty and a good accompaniment.  My smoked salmon had a mild smoke taste and the micro mesclun lettuce bed was went well with the flat bread and buttermilk dressing.  Very good!  We had a great meal and expect to come back in our short stay here.  Which says a lot!  I am Bookmarking the Social Brew Cafe! <br/>Food &amp; Beverage 4.75 Great tasting food and cut above most breakfast places in presentation and taste!  I prefer a smokier salmon but I am nitpicking.  <br/>Service 5 Outstanding pleasant waitress was great and responsive.<br/>Atmosphere 4.5 Comfortable and cozy. Outdoor eating area as next to a green space which adds to the experience. <br/>Price 4.5 Great value for what you get for your dollar!<br/>OA 4.75 - I would be a regular here and we plan on coming back for another meal or two while we are here.<br/><br/>Returned for a second time and had another awesome experience ordering the Mushroom Bruschetta. A thick slice of sourdough bread that mushrooms and two poached eggs with cream fresh and grated cheese flavored with truffles and pink of beef sausage.  I had the loaded double, a stack of two slices of bread that sandwich ham and melted cheese between and topped with a free range sunny side up egg.  They simply have some excellent food that is well prepared and presented.  Absolutely love going here!</span></p>]"
            ]
          },
          "metadata": {},
          "execution_count": 23
        }
      ]
    },
    {
      "cell_type": "code",
      "source": [
        "reviews[0]"
      ],
      "metadata": {
        "colab": {
          "base_uri": "https://localhost:8080/",
          "height": 35
        },
        "id": "EV__XGnYN3fs",
        "outputId": "10d6606f-f3aa-4451-d8cb-08f4b57a21ac"
      },
      "execution_count": 21,
      "outputs": [
        {
          "output_type": "execute_result",
          "data": {
            "text/plain": [
              "'Great food amazing coffee and tea. Short walk from the harbor. Staff was very friendly'"
            ],
            "application/vnd.google.colaboratory.intrinsic+json": {
              "type": "string"
            }
          },
          "metadata": {},
          "execution_count": 21
        }
      ]
    },
    {
      "cell_type": "markdown",
      "source": [
        "# Load Reviews into DataFrame and Score"
      ],
      "metadata": {
        "id": "y6GCQiJnOCCt"
      }
    },
    {
      "cell_type": "code",
      "source": [
        "import numpy as np\n",
        "import pandas as pd"
      ],
      "metadata": {
        "id": "Aaw6mE8NOAEl"
      },
      "execution_count": 25,
      "outputs": []
    },
    {
      "cell_type": "code",
      "source": [
        "df = pd.DataFrame(np.array(reviews), columns=['review'])"
      ],
      "metadata": {
        "id": "S9EPGXSfOJzF"
      },
      "execution_count": 26,
      "outputs": []
    },
    {
      "cell_type": "code",
      "source": [
        "df.head(3) # stroing the reviews in the dataframe"
      ],
      "metadata": {
        "colab": {
          "base_uri": "https://localhost:8080/",
          "height": 143
        },
        "id": "7tdzRXdwSCX2",
        "outputId": "dcb9f151-5fe8-48a9-f5a1-a85fcd704fb7"
      },
      "execution_count": 34,
      "outputs": [
        {
          "output_type": "execute_result",
          "data": {
            "text/plain": [
              "                                              review  sentiment\n",
              "0  Great food amazing coffee and tea. Short walk ...          5\n",
              "1  Great staff and food.  Must try is the pan fri...          5\n",
              "2  Ricotta hot cakes! These were so yummy. I ate ...          5"
            ],
            "text/html": [
              "\n",
              "  <div id=\"df-d19e460a-7a9f-4345-8e2b-3a4f1ec26f75\">\n",
              "    <div class=\"colab-df-container\">\n",
              "      <div>\n",
              "<style scoped>\n",
              "    .dataframe tbody tr th:only-of-type {\n",
              "        vertical-align: middle;\n",
              "    }\n",
              "\n",
              "    .dataframe tbody tr th {\n",
              "        vertical-align: top;\n",
              "    }\n",
              "\n",
              "    .dataframe thead th {\n",
              "        text-align: right;\n",
              "    }\n",
              "</style>\n",
              "<table border=\"1\" class=\"dataframe\">\n",
              "  <thead>\n",
              "    <tr style=\"text-align: right;\">\n",
              "      <th></th>\n",
              "      <th>review</th>\n",
              "      <th>sentiment</th>\n",
              "    </tr>\n",
              "  </thead>\n",
              "  <tbody>\n",
              "    <tr>\n",
              "      <th>0</th>\n",
              "      <td>Great food amazing coffee and tea. Short walk ...</td>\n",
              "      <td>5</td>\n",
              "    </tr>\n",
              "    <tr>\n",
              "      <th>1</th>\n",
              "      <td>Great staff and food.  Must try is the pan fri...</td>\n",
              "      <td>5</td>\n",
              "    </tr>\n",
              "    <tr>\n",
              "      <th>2</th>\n",
              "      <td>Ricotta hot cakes! These were so yummy. I ate ...</td>\n",
              "      <td>5</td>\n",
              "    </tr>\n",
              "  </tbody>\n",
              "</table>\n",
              "</div>\n",
              "      <button class=\"colab-df-convert\" onclick=\"convertToInteractive('df-d19e460a-7a9f-4345-8e2b-3a4f1ec26f75')\"\n",
              "              title=\"Convert this dataframe to an interactive table.\"\n",
              "              style=\"display:none;\">\n",
              "        \n",
              "  <svg xmlns=\"http://www.w3.org/2000/svg\" height=\"24px\"viewBox=\"0 0 24 24\"\n",
              "       width=\"24px\">\n",
              "    <path d=\"M0 0h24v24H0V0z\" fill=\"none\"/>\n",
              "    <path d=\"M18.56 5.44l.94 2.06.94-2.06 2.06-.94-2.06-.94-.94-2.06-.94 2.06-2.06.94zm-11 1L8.5 8.5l.94-2.06 2.06-.94-2.06-.94L8.5 2.5l-.94 2.06-2.06.94zm10 10l.94 2.06.94-2.06 2.06-.94-2.06-.94-.94-2.06-.94 2.06-2.06.94z\"/><path d=\"M17.41 7.96l-1.37-1.37c-.4-.4-.92-.59-1.43-.59-.52 0-1.04.2-1.43.59L10.3 9.45l-7.72 7.72c-.78.78-.78 2.05 0 2.83L4 21.41c.39.39.9.59 1.41.59.51 0 1.02-.2 1.41-.59l7.78-7.78 2.81-2.81c.8-.78.8-2.07 0-2.86zM5.41 20L4 18.59l7.72-7.72 1.47 1.35L5.41 20z\"/>\n",
              "  </svg>\n",
              "      </button>\n",
              "      \n",
              "  <style>\n",
              "    .colab-df-container {\n",
              "      display:flex;\n",
              "      flex-wrap:wrap;\n",
              "      gap: 12px;\n",
              "    }\n",
              "\n",
              "    .colab-df-convert {\n",
              "      background-color: #E8F0FE;\n",
              "      border: none;\n",
              "      border-radius: 50%;\n",
              "      cursor: pointer;\n",
              "      display: none;\n",
              "      fill: #1967D2;\n",
              "      height: 32px;\n",
              "      padding: 0 0 0 0;\n",
              "      width: 32px;\n",
              "    }\n",
              "\n",
              "    .colab-df-convert:hover {\n",
              "      background-color: #E2EBFA;\n",
              "      box-shadow: 0px 1px 2px rgba(60, 64, 67, 0.3), 0px 1px 3px 1px rgba(60, 64, 67, 0.15);\n",
              "      fill: #174EA6;\n",
              "    }\n",
              "\n",
              "    [theme=dark] .colab-df-convert {\n",
              "      background-color: #3B4455;\n",
              "      fill: #D2E3FC;\n",
              "    }\n",
              "\n",
              "    [theme=dark] .colab-df-convert:hover {\n",
              "      background-color: #434B5C;\n",
              "      box-shadow: 0px 1px 3px 1px rgba(0, 0, 0, 0.15);\n",
              "      filter: drop-shadow(0px 1px 2px rgba(0, 0, 0, 0.3));\n",
              "      fill: #FFFFFF;\n",
              "    }\n",
              "  </style>\n",
              "\n",
              "      <script>\n",
              "        const buttonEl =\n",
              "          document.querySelector('#df-d19e460a-7a9f-4345-8e2b-3a4f1ec26f75 button.colab-df-convert');\n",
              "        buttonEl.style.display =\n",
              "          google.colab.kernel.accessAllowed ? 'block' : 'none';\n",
              "\n",
              "        async function convertToInteractive(key) {\n",
              "          const element = document.querySelector('#df-d19e460a-7a9f-4345-8e2b-3a4f1ec26f75');\n",
              "          const dataTable =\n",
              "            await google.colab.kernel.invokeFunction('convertToInteractive',\n",
              "                                                     [key], {});\n",
              "          if (!dataTable) return;\n",
              "\n",
              "          const docLinkHtml = 'Like what you see? Visit the ' +\n",
              "            '<a target=\"_blank\" href=https://colab.research.google.com/notebooks/data_table.ipynb>data table notebook</a>'\n",
              "            + ' to learn more about interactive tables.';\n",
              "          element.innerHTML = '';\n",
              "          dataTable['output_type'] = 'display_data';\n",
              "          await google.colab.output.renderOutput(dataTable, element);\n",
              "          const docLink = document.createElement('div');\n",
              "          docLink.innerHTML = docLinkHtml;\n",
              "          element.appendChild(docLink);\n",
              "        }\n",
              "      </script>\n",
              "    </div>\n",
              "  </div>\n",
              "  "
            ]
          },
          "metadata": {},
          "execution_count": 34
        }
      ]
    },
    {
      "cell_type": "code",
      "source": [
        "df['review'].iloc[0]"
      ],
      "metadata": {
        "colab": {
          "base_uri": "https://localhost:8080/",
          "height": 35
        },
        "id": "suq7urZKRxXH",
        "outputId": "9106e81b-f6d6-42d8-c200-bd85f2aa4a71"
      },
      "execution_count": 35,
      "outputs": [
        {
          "output_type": "execute_result",
          "data": {
            "text/plain": [
              "'Great food amazing coffee and tea. Short walk from the harbor. Staff was very friendly'"
            ],
            "application/vnd.google.colaboratory.intrinsic+json": {
              "type": "string"
            }
          },
          "metadata": {},
          "execution_count": 35
        }
      ]
    },
    {
      "cell_type": "code",
      "source": [
        "def sentiment_score(review):\n",
        "    tokens = tokenizer.encode(review, return_tensors='pt')\n",
        "    result = model(tokens)\n",
        "    return int(torch.argmax(result.logits))+1"
      ],
      "metadata": {
        "id": "kCqWHbReR0um"
      },
      "execution_count": 36,
      "outputs": []
    },
    {
      "cell_type": "code",
      "source": [
        "sentiment_score(df['review'].iloc[1]) # sending the review to the dataframe"
      ],
      "metadata": {
        "colab": {
          "base_uri": "https://localhost:8080/"
        },
        "id": "szoBua9zR3Im",
        "outputId": "6dd60b48-156c-41dc-b645-50529feae97a"
      },
      "execution_count": 31,
      "outputs": [
        {
          "output_type": "execute_result",
          "data": {
            "text/plain": [
              "5"
            ]
          },
          "metadata": {},
          "execution_count": 31
        }
      ]
    },
    {
      "cell_type": "code",
      "source": [
        "df['sentiment'] = df['review'].apply(lambda x: sentiment_score(x[:512]))\n"
      ],
      "metadata": {
        "id": "O1hDhlLRR4dO"
      },
      "execution_count": 32,
      "outputs": []
    }
  ]
}