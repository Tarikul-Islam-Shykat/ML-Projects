{
 "cells": [
  {
   "cell_type": "code",
   "execution_count": 1,
   "id": "64479d91",
   "metadata": {},
   "outputs": [],
   "source": [
    "import pandas as pd"
   ]
  },
  {
   "cell_type": "code",
   "execution_count": 2,
   "id": "e773a59f",
   "metadata": {},
   "outputs": [],
   "source": [
    "df = pd.read_csv(r'F:\\Summer 2022\\CSE 422\\New folder\\archive\\Fake.csv')\n",
    "df1 = pd.read_csv(r'F:\\Summer 2022\\CSE 422\\New folder\\archive\\True.csv')"
   ]
  },
  {
   "cell_type": "code",
   "execution_count": 3,
   "id": "68cd03be",
   "metadata": {},
   "outputs": [
    {
     "data": {
      "text/plain": [
       "(23481, 4)"
      ]
     },
     "execution_count": 3,
     "metadata": {},
     "output_type": "execute_result"
    }
   ],
   "source": [
    "df.shape #"
   ]
  },
  {
   "cell_type": "code",
   "execution_count": 4,
   "id": "7f4398ec",
   "metadata": {},
   "outputs": [
    {
     "data": {
      "text/plain": [
       "(21417, 4)"
      ]
     },
     "execution_count": 4,
     "metadata": {},
     "output_type": "execute_result"
    }
   ],
   "source": [
    "df1.shape"
   ]
  },
  {
   "cell_type": "markdown",
   "id": "32042faf",
   "metadata": {},
   "source": [
    "#### df = fake news dataframe, df1 = true news dataframe\n",
    "#### label  0 = false , 1 = true\n",
    "#### labeled the fake news data as 0 and 1"
   ]
  },
  {
   "cell_type": "code",
   "execution_count": 5,
   "id": "7b53db5a",
   "metadata": {},
   "outputs": [],
   "source": [
    "df['Label'] = 0"
   ]
  },
  {
   "cell_type": "code",
   "execution_count": 6,
   "id": "b6e585d3",
   "metadata": {},
   "outputs": [
    {
     "data": {
      "text/html": [
       "<div>\n",
       "<style scoped>\n",
       "    .dataframe tbody tr th:only-of-type {\n",
       "        vertical-align: middle;\n",
       "    }\n",
       "\n",
       "    .dataframe tbody tr th {\n",
       "        vertical-align: top;\n",
       "    }\n",
       "\n",
       "    .dataframe thead th {\n",
       "        text-align: right;\n",
       "    }\n",
       "</style>\n",
       "<table border=\"1\" class=\"dataframe\">\n",
       "  <thead>\n",
       "    <tr style=\"text-align: right;\">\n",
       "      <th></th>\n",
       "      <th>title</th>\n",
       "      <th>text</th>\n",
       "      <th>subject</th>\n",
       "      <th>date</th>\n",
       "      <th>Label</th>\n",
       "    </tr>\n",
       "  </thead>\n",
       "  <tbody>\n",
       "    <tr>\n",
       "      <th>0</th>\n",
       "      <td>Donald Trump Sends Out Embarrassing New Year’...</td>\n",
       "      <td>Donald Trump just couldn t wish all Americans ...</td>\n",
       "      <td>News</td>\n",
       "      <td>December 31, 2017</td>\n",
       "      <td>0</td>\n",
       "    </tr>\n",
       "    <tr>\n",
       "      <th>1</th>\n",
       "      <td>Drunk Bragging Trump Staffer Started Russian ...</td>\n",
       "      <td>House Intelligence Committee Chairman Devin Nu...</td>\n",
       "      <td>News</td>\n",
       "      <td>December 31, 2017</td>\n",
       "      <td>0</td>\n",
       "    </tr>\n",
       "  </tbody>\n",
       "</table>\n",
       "</div>"
      ],
      "text/plain": [
       "                                               title  \\\n",
       "0   Donald Trump Sends Out Embarrassing New Year’...   \n",
       "1   Drunk Bragging Trump Staffer Started Russian ...   \n",
       "\n",
       "                                                text subject  \\\n",
       "0  Donald Trump just couldn t wish all Americans ...    News   \n",
       "1  House Intelligence Committee Chairman Devin Nu...    News   \n",
       "\n",
       "                date  Label  \n",
       "0  December 31, 2017      0  \n",
       "1  December 31, 2017      0  "
      ]
     },
     "execution_count": 6,
     "metadata": {},
     "output_type": "execute_result"
    }
   ],
   "source": [
    "df.head(2) "
   ]
  },
  {
   "cell_type": "code",
   "execution_count": 7,
   "id": "43424304",
   "metadata": {},
   "outputs": [],
   "source": [
    "df1['Label'] = 1 "
   ]
  },
  {
   "cell_type": "code",
   "execution_count": 8,
   "id": "cfd79029",
   "metadata": {},
   "outputs": [
    {
     "data": {
      "text/html": [
       "<div>\n",
       "<style scoped>\n",
       "    .dataframe tbody tr th:only-of-type {\n",
       "        vertical-align: middle;\n",
       "    }\n",
       "\n",
       "    .dataframe tbody tr th {\n",
       "        vertical-align: top;\n",
       "    }\n",
       "\n",
       "    .dataframe thead th {\n",
       "        text-align: right;\n",
       "    }\n",
       "</style>\n",
       "<table border=\"1\" class=\"dataframe\">\n",
       "  <thead>\n",
       "    <tr style=\"text-align: right;\">\n",
       "      <th></th>\n",
       "      <th>title</th>\n",
       "      <th>text</th>\n",
       "      <th>subject</th>\n",
       "      <th>date</th>\n",
       "      <th>Label</th>\n",
       "    </tr>\n",
       "  </thead>\n",
       "  <tbody>\n",
       "    <tr>\n",
       "      <th>0</th>\n",
       "      <td>As U.S. budget fight looms, Republicans flip t...</td>\n",
       "      <td>WASHINGTON (Reuters) - The head of a conservat...</td>\n",
       "      <td>politicsNews</td>\n",
       "      <td>December 31, 2017</td>\n",
       "      <td>1</td>\n",
       "    </tr>\n",
       "    <tr>\n",
       "      <th>1</th>\n",
       "      <td>U.S. military to accept transgender recruits o...</td>\n",
       "      <td>WASHINGTON (Reuters) - Transgender people will...</td>\n",
       "      <td>politicsNews</td>\n",
       "      <td>December 29, 2017</td>\n",
       "      <td>1</td>\n",
       "    </tr>\n",
       "  </tbody>\n",
       "</table>\n",
       "</div>"
      ],
      "text/plain": [
       "                                               title  \\\n",
       "0  As U.S. budget fight looms, Republicans flip t...   \n",
       "1  U.S. military to accept transgender recruits o...   \n",
       "\n",
       "                                                text       subject  \\\n",
       "0  WASHINGTON (Reuters) - The head of a conservat...  politicsNews   \n",
       "1  WASHINGTON (Reuters) - Transgender people will...  politicsNews   \n",
       "\n",
       "                 date  Label  \n",
       "0  December 31, 2017       1  \n",
       "1  December 29, 2017       1  "
      ]
     },
     "execution_count": 8,
     "metadata": {},
     "output_type": "execute_result"
    }
   ],
   "source": [
    "df1.head(2) "
   ]
  },
  {
   "cell_type": "code",
   "execution_count": 9,
   "id": "d0216d7d",
   "metadata": {},
   "outputs": [],
   "source": [
    "frames = [df, df1] "
   ]
  },
  {
   "cell_type": "code",
   "execution_count": 10,
   "id": "c2c2d989",
   "metadata": {},
   "outputs": [],
   "source": [
    "c_df = pd.concat(frames)   "
   ]
  },
  {
   "cell_type": "markdown",
   "id": "01f0dc11",
   "metadata": {},
   "source": [
    "#### we cant feed the model same data , like only the fake news, we have to balance out the fake news and true news, that is why we combined the dataset."
   ]
  },
  {
   "cell_type": "code",
   "execution_count": 11,
   "id": "96ceecf4",
   "metadata": {},
   "outputs": [
    {
     "data": {
      "text/plain": [
       "(44898, 5)"
      ]
     },
     "execution_count": 11,
     "metadata": {},
     "output_type": "execute_result"
    }
   ],
   "source": [
    "c_df.shape"
   ]
  },
  {
   "cell_type": "code",
   "execution_count": 12,
   "id": "5a1e74ec",
   "metadata": {},
   "outputs": [
    {
     "data": {
      "text/html": [
       "<div>\n",
       "<style scoped>\n",
       "    .dataframe tbody tr th:only-of-type {\n",
       "        vertical-align: middle;\n",
       "    }\n",
       "\n",
       "    .dataframe tbody tr th {\n",
       "        vertical-align: top;\n",
       "    }\n",
       "\n",
       "    .dataframe thead th {\n",
       "        text-align: right;\n",
       "    }\n",
       "</style>\n",
       "<table border=\"1\" class=\"dataframe\">\n",
       "  <thead>\n",
       "    <tr style=\"text-align: right;\">\n",
       "      <th></th>\n",
       "      <th>title</th>\n",
       "      <th>text</th>\n",
       "      <th>subject</th>\n",
       "      <th>date</th>\n",
       "      <th>Label</th>\n",
       "    </tr>\n",
       "  </thead>\n",
       "  <tbody>\n",
       "    <tr>\n",
       "      <th>15432</th>\n",
       "      <td>Congo opposition rejects new timetable for pol...</td>\n",
       "      <td>KINSHASA (Reuters) - Democratic Republic of Co...</td>\n",
       "      <td>worldnews</td>\n",
       "      <td>November 7, 2017</td>\n",
       "      <td>1</td>\n",
       "    </tr>\n",
       "    <tr>\n",
       "      <th>10390</th>\n",
       "      <td>FLASHBACK: ARMY OF WOMEN Join Social Media Cra...</td>\n",
       "      <td>President Trump and his daughter Ivanka are ge...</td>\n",
       "      <td>politics</td>\n",
       "      <td>Jul 16, 2017</td>\n",
       "      <td>0</td>\n",
       "    </tr>\n",
       "    <tr>\n",
       "      <th>20550</th>\n",
       "      <td>BLACK LIVES MATTER ACTIVIST Obama Invited To W...</td>\n",
       "      <td>Just another upstanding citizen who s been inv...</td>\n",
       "      <td>left-news</td>\n",
       "      <td>May 19, 2016</td>\n",
       "      <td>0</td>\n",
       "    </tr>\n",
       "    <tr>\n",
       "      <th>16934</th>\n",
       "      <td>Is Obama Using The Refugee Resettlement Of Mus...</td>\n",
       "      <td>Since Obama was sworn in as President hundreds...</td>\n",
       "      <td>Government News</td>\n",
       "      <td>Dec 8, 2015</td>\n",
       "      <td>0</td>\n",
       "    </tr>\n",
       "    <tr>\n",
       "      <th>11949</th>\n",
       "      <td>Russia detains Norwegian citizen over suspecte...</td>\n",
       "      <td>MOSCOW (Reuters) - Russia has detained a Norwe...</td>\n",
       "      <td>worldnews</td>\n",
       "      <td>December 19, 2017</td>\n",
       "      <td>1</td>\n",
       "    </tr>\n",
       "  </tbody>\n",
       "</table>\n",
       "</div>"
      ],
      "text/plain": [
       "                                                   title  \\\n",
       "15432  Congo opposition rejects new timetable for pol...   \n",
       "10390  FLASHBACK: ARMY OF WOMEN Join Social Media Cra...   \n",
       "20550  BLACK LIVES MATTER ACTIVIST Obama Invited To W...   \n",
       "16934  Is Obama Using The Refugee Resettlement Of Mus...   \n",
       "11949  Russia detains Norwegian citizen over suspecte...   \n",
       "\n",
       "                                                    text          subject  \\\n",
       "15432  KINSHASA (Reuters) - Democratic Republic of Co...        worldnews   \n",
       "10390  President Trump and his daughter Ivanka are ge...         politics   \n",
       "20550  Just another upstanding citizen who s been inv...        left-news   \n",
       "16934  Since Obama was sworn in as President hundreds...  Government News   \n",
       "11949  MOSCOW (Reuters) - Russia has detained a Norwe...        worldnews   \n",
       "\n",
       "                     date  Label  \n",
       "15432   November 7, 2017       1  \n",
       "10390        Jul 16, 2017      0  \n",
       "20550        May 19, 2016      0  \n",
       "16934         Dec 8, 2015      0  \n",
       "11949  December 19, 2017       1  "
      ]
     },
     "execution_count": 12,
     "metadata": {},
     "output_type": "execute_result"
    }
   ],
   "source": [
    "c_df.sample(5) "
   ]
  },
  {
   "cell_type": "markdown",
   "id": "9ea8d506",
   "metadata": {},
   "source": [
    "# Preprocessing "
   ]
  },
  {
   "cell_type": "code",
   "execution_count": 13,
   "id": "324f21e4",
   "metadata": {},
   "outputs": [
    {
     "data": {
      "text/plain": [
       "title      0\n",
       "text       0\n",
       "subject    0\n",
       "date       0\n",
       "Label      0\n",
       "dtype: int64"
      ]
     },
     "execution_count": 13,
     "metadata": {},
     "output_type": "execute_result"
    }
   ],
   "source": [
    "c_df.isnull().sum()"
   ]
  },
  {
   "cell_type": "code",
   "execution_count": 14,
   "id": "ec69ed11",
   "metadata": {},
   "outputs": [],
   "source": [
    "# dropping unncessary columns\n",
    "u_df = c_df.drop(['subject','date'], axis=1) "
   ]
  },
  {
   "cell_type": "code",
   "execution_count": 15,
   "id": "8b082960",
   "metadata": {},
   "outputs": [
    {
     "data": {
      "text/html": [
       "<div>\n",
       "<style scoped>\n",
       "    .dataframe tbody tr th:only-of-type {\n",
       "        vertical-align: middle;\n",
       "    }\n",
       "\n",
       "    .dataframe tbody tr th {\n",
       "        vertical-align: top;\n",
       "    }\n",
       "\n",
       "    .dataframe thead th {\n",
       "        text-align: right;\n",
       "    }\n",
       "</style>\n",
       "<table border=\"1\" class=\"dataframe\">\n",
       "  <thead>\n",
       "    <tr style=\"text-align: right;\">\n",
       "      <th></th>\n",
       "      <th>title</th>\n",
       "      <th>text</th>\n",
       "      <th>Label</th>\n",
       "    </tr>\n",
       "  </thead>\n",
       "  <tbody>\n",
       "    <tr>\n",
       "      <th>0</th>\n",
       "      <td>Donald Trump Sends Out Embarrassing New Year’...</td>\n",
       "      <td>Donald Trump just couldn t wish all Americans ...</td>\n",
       "      <td>0</td>\n",
       "    </tr>\n",
       "    <tr>\n",
       "      <th>1</th>\n",
       "      <td>Drunk Bragging Trump Staffer Started Russian ...</td>\n",
       "      <td>House Intelligence Committee Chairman Devin Nu...</td>\n",
       "      <td>0</td>\n",
       "    </tr>\n",
       "  </tbody>\n",
       "</table>\n",
       "</div>"
      ],
      "text/plain": [
       "                                               title  \\\n",
       "0   Donald Trump Sends Out Embarrassing New Year’...   \n",
       "1   Drunk Bragging Trump Staffer Started Russian ...   \n",
       "\n",
       "                                                text  Label  \n",
       "0  Donald Trump just couldn t wish all Americans ...      0  \n",
       "1  House Intelligence Committee Chairman Devin Nu...      0  "
      ]
     },
     "execution_count": 15,
     "metadata": {},
     "output_type": "execute_result"
    }
   ],
   "source": [
    "u_df.head(2)"
   ]
  },
  {
   "cell_type": "code",
   "execution_count": 16,
   "id": "3694769f",
   "metadata": {},
   "outputs": [],
   "source": [
    "u_df['content'] = u_df['title']+' '+u_df['text'] # adding the title and the text columns data, \n",
    "# because oour model will learn from the \n",
    "# headlines as well as text, and based on that it will give out result."
   ]
  },
  {
   "cell_type": "code",
   "execution_count": 17,
   "id": "0e2a2dd6",
   "metadata": {},
   "outputs": [
    {
     "data": {
      "text/html": [
       "<div>\n",
       "<style scoped>\n",
       "    .dataframe tbody tr th:only-of-type {\n",
       "        vertical-align: middle;\n",
       "    }\n",
       "\n",
       "    .dataframe tbody tr th {\n",
       "        vertical-align: top;\n",
       "    }\n",
       "\n",
       "    .dataframe thead th {\n",
       "        text-align: right;\n",
       "    }\n",
       "</style>\n",
       "<table border=\"1\" class=\"dataframe\">\n",
       "  <thead>\n",
       "    <tr style=\"text-align: right;\">\n",
       "      <th></th>\n",
       "      <th>title</th>\n",
       "      <th>text</th>\n",
       "      <th>Label</th>\n",
       "      <th>content</th>\n",
       "    </tr>\n",
       "  </thead>\n",
       "  <tbody>\n",
       "    <tr>\n",
       "      <th>0</th>\n",
       "      <td>Donald Trump Sends Out Embarrassing New Year’...</td>\n",
       "      <td>Donald Trump just couldn t wish all Americans ...</td>\n",
       "      <td>0</td>\n",
       "      <td>Donald Trump Sends Out Embarrassing New Year’...</td>\n",
       "    </tr>\n",
       "    <tr>\n",
       "      <th>1</th>\n",
       "      <td>Drunk Bragging Trump Staffer Started Russian ...</td>\n",
       "      <td>House Intelligence Committee Chairman Devin Nu...</td>\n",
       "      <td>0</td>\n",
       "      <td>Drunk Bragging Trump Staffer Started Russian ...</td>\n",
       "    </tr>\n",
       "    <tr>\n",
       "      <th>2</th>\n",
       "      <td>Sheriff David Clarke Becomes An Internet Joke...</td>\n",
       "      <td>On Friday, it was revealed that former Milwauk...</td>\n",
       "      <td>0</td>\n",
       "      <td>Sheriff David Clarke Becomes An Internet Joke...</td>\n",
       "    </tr>\n",
       "  </tbody>\n",
       "</table>\n",
       "</div>"
      ],
      "text/plain": [
       "                                               title  \\\n",
       "0   Donald Trump Sends Out Embarrassing New Year’...   \n",
       "1   Drunk Bragging Trump Staffer Started Russian ...   \n",
       "2   Sheriff David Clarke Becomes An Internet Joke...   \n",
       "\n",
       "                                                text  Label  \\\n",
       "0  Donald Trump just couldn t wish all Americans ...      0   \n",
       "1  House Intelligence Committee Chairman Devin Nu...      0   \n",
       "2  On Friday, it was revealed that former Milwauk...      0   \n",
       "\n",
       "                                             content  \n",
       "0   Donald Trump Sends Out Embarrassing New Year’...  \n",
       "1   Drunk Bragging Trump Staffer Started Russian ...  \n",
       "2   Sheriff David Clarke Becomes An Internet Joke...  "
      ]
     },
     "execution_count": 17,
     "metadata": {},
     "output_type": "execute_result"
    }
   ],
   "source": [
    "u_df.head(3)"
   ]
  },
  {
   "cell_type": "code",
   "execution_count": 18,
   "id": "8b534762",
   "metadata": {},
   "outputs": [
    {
     "data": {
      "text/plain": [
       "(44898, 4)"
      ]
     },
     "execution_count": 18,
     "metadata": {},
     "output_type": "execute_result"
    }
   ],
   "source": [
    "u_df.shape # we have around 44k data "
   ]
  },
  {
   "cell_type": "code",
   "execution_count": 19,
   "id": "fc2eecc4",
   "metadata": {},
   "outputs": [],
   "source": [
    "sameple_df = u_df.sample(30000) \n",
    "# we cant take all this data, becasue it will take a lot of time to train, that is why we took 5000 data for traing,\n",
    "# we took sample data because we want randomness, we cant take only the 1st 5000 data, .sample(5000), will provide\n",
    "# diffrerent true and false news data of 5000"
   ]
  },
  {
   "cell_type": "code",
   "execution_count": 20,
   "id": "0ccfeafb",
   "metadata": {},
   "outputs": [
    {
     "data": {
      "text/plain": [
       "0    15705\n",
       "1    14295\n",
       "Name: Label, dtype: int64"
      ]
     },
     "execution_count": 20,
     "metadata": {},
     "output_type": "execute_result"
    }
   ],
   "source": [
    "sameple_df['Label'].value_counts()\n",
    "# 0 = false = 2606 and 1 = true = 2394"
   ]
  },
  {
   "cell_type": "markdown",
   "id": "69b3f248",
   "metadata": {},
   "source": [
    "## Visualizing data"
   ]
  },
  {
   "cell_type": "code",
   "execution_count": 21,
   "id": "d3abfb2c",
   "metadata": {},
   "outputs": [],
   "source": [
    "import matplotlib.pyplot as plot"
   ]
  },
  {
   "cell_type": "code",
   "execution_count": 22,
   "id": "bb3f55ba",
   "metadata": {},
   "outputs": [
    {
     "data": {
      "image/png": "[encoded data removed]",
      "text/plain": [
       "<Figure size 432x288 with 1 Axes>"
      ]
     },
     "metadata": {
      "needs_background": "light"
     },
     "output_type": "display_data"
    }
   ],
   "source": [
    "sameple_df[\"Label\"].value_counts().plot.bar()\n",
    "plot.show()"
   ]
  },
  {
   "cell_type": "markdown",
   "id": "fdb55e34",
   "metadata": {},
   "source": [
    "#### as you can see, we have almost similar amount of data( true and false ) for training."
   ]
  },
  {
   "cell_type": "code",
   "execution_count": 23,
   "id": "7dd11236",
   "metadata": {},
   "outputs": [
    {
     "data": {
      "image/png": "[encoded data removed]",
      "text/plain": [
       "<Figure size 432x288 with 1 Axes>"
      ]
     },
     "metadata": {
      "needs_background": "light"
     },
     "output_type": "display_data"
    }
   ],
   "source": [
    "plot.hist(sameple_df[\"Label\"].value_counts().values, bins = 160)\n",
    "plot.yscale('log')\n",
    "plot.show()"
   ]
  },
  {
   "cell_type": "code",
   "execution_count": 24,
   "id": "096a1907",
   "metadata": {},
   "outputs": [],
   "source": [
    "X = sameple_df.drop(columns='Label', axis=1)\n",
    "Y = sameple_df['Label'] "
   ]
  },
  {
   "cell_type": "code",
   "execution_count": 25,
   "id": "abe69a1e",
   "metadata": {},
   "outputs": [],
   "source": [
    "import re\n",
    "from nltk.stem.porter import PorterStemmer\n",
    "from nltk.corpus import stopwords"
   ]
  },
  {
   "cell_type": "code",
   "execution_count": 26,
   "id": "a4480518",
   "metadata": {},
   "outputs": [],
   "source": [
    "port_stem = PorterStemmer()"
   ]
  },
  {
   "cell_type": "code",
   "execution_count": 27,
   "id": "5b087022",
   "metadata": {},
   "outputs": [],
   "source": [
    "# explaind all the steps below\n",
    "def stemming(content):\n",
    "    stemmed_content = re.sub('[^a-zA-Z]',' ',content)\n",
    "    stemmed_content = stemmed_content.lower() \n",
    "    stemmed_content = stemmed_content.split() \n",
    "    stemmed_content = [port_stem.stem(word) for word in stemmed_content if not word in stopwords.words('english')]\n",
    "    stemmed_content = ' '.join(stemmed_content)\n",
    "    return stemmed_content"
   ]
  },
  {
   "cell_type": "code",
   "execution_count": 28,
   "id": "70b91566",
   "metadata": {},
   "outputs": [],
   "source": [
    "sameple_df['content'] =sameple_df['content'].apply(stemming) "
   ]
  },
  {
   "cell_type": "code",
   "execution_count": 29,
   "id": "b38a6d14",
   "metadata": {},
   "outputs": [],
   "source": [
    "#separating the data and label\n",
    "X = sameple_df['content'].values\n",
    "Y = sameple_df['Label'].values"
   ]
  },
  {
   "cell_type": "code",
   "execution_count": 30,
   "id": "0f96ce11",
   "metadata": {},
   "outputs": [],
   "source": [
    "from sklearn.feature_extraction.text import TfidfVectorizer"
   ]
  },
  {
   "cell_type": "code",
   "execution_count": 31,
   "id": "0063e47d",
   "metadata": {},
   "outputs": [],
   "source": [
    "vectorizer = TfidfVectorizer()\n",
    "vectorizer.fit(X)\n",
    "\n",
    "X = vectorizer.transform(X)"
   ]
  },
  {
   "cell_type": "markdown",
   "id": "b7b9273a",
   "metadata": {},
   "source": [
    "# Spliting data"
   ]
  },
  {
   "cell_type": "code",
   "execution_count": 32,
   "id": "e463ec02",
   "metadata": {},
   "outputs": [],
   "source": [
    "from sklearn.model_selection import train_test_split\n",
    "\n",
    "from sklearn.metrics import accuracy_score"
   ]
  },
  {
   "cell_type": "code",
   "execution_count": 33,
   "id": "a909885e",
   "metadata": {},
   "outputs": [],
   "source": [
    "X_train, X_test, Y_train, Y_test = train_test_split(X, Y, test_size = 0.3, random_state=2)"
   ]
  },
  {
   "cell_type": "markdown",
   "id": "626365ee",
   "metadata": {},
   "source": [
    "# Training our model"
   ]
  },
  {
   "cell_type": "markdown",
   "id": "31cf5372",
   "metadata": {},
   "source": [
    "## Logisitic Regression"
   ]
  },
  {
   "cell_type": "code",
   "execution_count": 34,
   "id": "ac904fa5",
   "metadata": {},
   "outputs": [],
   "source": [
    "from sklearn.linear_model import LogisticRegression"
   ]
  },
  {
   "cell_type": "code",
   "execution_count": 35,
   "id": "9e63e3ed",
   "metadata": {},
   "outputs": [],
   "source": [
    "model = LogisticRegression()"
   ]
  },
  {
   "cell_type": "code",
   "execution_count": 36,
   "id": "33141f26",
   "metadata": {},
   "outputs": [
    {
     "data": {
      "text/plain": [
       "LogisticRegression()"
      ]
     },
     "execution_count": 36,
     "metadata": {},
     "output_type": "execute_result"
    }
   ],
   "source": [
    "model.fit(X_train,Y_train)"
   ]
  },
  {
   "cell_type": "markdown",
   "id": "149eaf30",
   "metadata": {},
   "source": [
    "### Accuracy"
   ]
  },
  {
   "cell_type": "code",
   "execution_count": 37,
   "id": "823dbd31",
   "metadata": {},
   "outputs": [],
   "source": [
    "from sklearn.metrics import accuracy_score, f1_score, precision_score, recall_score, classification_report, confusion_matrix"
   ]
  },
  {
   "cell_type": "code",
   "execution_count": 38,
   "id": "ebd309a1",
   "metadata": {},
   "outputs": [],
   "source": [
    "# accuracy score on the training data\n",
    "X_train_prediction = model.predict(X_train)\n",
    "training_data_accuracy = accuracy_score(X_train_prediction, Y_train)"
   ]
  },
  {
   "cell_type": "code",
   "execution_count": 39,
   "id": "ae4d1e48",
   "metadata": {},
   "outputs": [
    {
     "name": "stdout",
     "output_type": "stream",
     "text": [
      "Accuracy score of the training data :  0.990904761904762\n"
     ]
    }
   ],
   "source": [
    "print('Accuracy score of the training data : ', training_data_accuracy)"
   ]
  },
  {
   "cell_type": "code",
   "execution_count": 40,
   "id": "7018641f",
   "metadata": {},
   "outputs": [
    {
     "name": "stdout",
     "output_type": "stream",
     "text": [
      "Accuracy score of the test data :  0.9814444444444445\n"
     ]
    }
   ],
   "source": [
    "# accuracy score on the test data\n",
    "X_test_prediction = model.predict(X_test)\n",
    "test_data_accuracy = accuracy_score(X_test_prediction, Y_test)\n",
    "\n",
    "print('Accuracy score of the test data : ', test_data_accuracy)"
   ]
  },
  {
   "cell_type": "markdown",
   "id": "faee6441",
   "metadata": {},
   "source": [
    "### f1-score"
   ]
  },
  {
   "cell_type": "code",
   "execution_count": 41,
   "id": "dd30031f",
   "metadata": {},
   "outputs": [
    {
     "name": "stdout",
     "output_type": "stream",
     "text": [
      "0.9803182086034177\n"
     ]
    }
   ],
   "source": [
    "y_pred = model.predict(X_test)\n",
    "print(f1_score(Y_test, y_pred))"
   ]
  },
  {
   "cell_type": "markdown",
   "id": "0e288ed5",
   "metadata": {},
   "source": [
    "### Precision"
   ]
  },
  {
   "cell_type": "code",
   "execution_count": 42,
   "id": "ce0b7c91",
   "metadata": {},
   "outputs": [
    {
     "name": "stdout",
     "output_type": "stream",
     "text": [
      "0.9811729917264398\n"
     ]
    }
   ],
   "source": [
    "print(precision_score(Y_test, y_pred, average=\"macro\"))"
   ]
  },
  {
   "cell_type": "markdown",
   "id": "85b44ecc",
   "metadata": {},
   "source": [
    "### Recall"
   ]
  },
  {
   "cell_type": "code",
   "execution_count": 43,
   "id": "766ff8fd",
   "metadata": {},
   "outputs": [
    {
     "name": "stdout",
     "output_type": "stream",
     "text": [
      "0.9816274792523223\n"
     ]
    }
   ],
   "source": [
    "print(recall_score(Y_test, y_pred, average=\"macro\"))   "
   ]
  },
  {
   "cell_type": "markdown",
   "id": "0ea9a87f",
   "metadata": {},
   "source": [
    "# SVM"
   ]
  },
  {
   "cell_type": "code",
   "execution_count": 44,
   "id": "e25958c9",
   "metadata": {},
   "outputs": [],
   "source": [
    "from sklearn import svm"
   ]
  },
  {
   "cell_type": "code",
   "execution_count": 45,
   "id": "0872a9b5",
   "metadata": {},
   "outputs": [],
   "source": [
    "model_3 = svm.SVC(kernel='linear') # Linear Kernel"
   ]
  },
  {
   "cell_type": "code",
   "execution_count": 46,
   "id": "f39f76b5",
   "metadata": {},
   "outputs": [
    {
     "data": {
      "text/plain": [
       "SVC(kernel='linear')"
      ]
     },
     "execution_count": 46,
     "metadata": {},
     "output_type": "execute_result"
    }
   ],
   "source": [
    "model_3.fit(X_train, Y_train)"
   ]
  },
  {
   "cell_type": "markdown",
   "id": "fafc235f",
   "metadata": {},
   "source": [
    "### Accuracy"
   ]
  },
  {
   "cell_type": "code",
   "execution_count": 47,
   "id": "7e59346a",
   "metadata": {},
   "outputs": [
    {
     "name": "stdout",
     "output_type": "stream",
     "text": [
      "Accuracy score of the training data :  0.998\n"
     ]
    }
   ],
   "source": [
    "# accuracy score on the training data\n",
    "X_train_prediction = model_3.predict(X_train)\n",
    "training_data_accuracy = accuracy_score(X_train_prediction, Y_train)\n",
    "print('Accuracy score of the training data : ', training_data_accuracy)"
   ]
  },
  {
   "cell_type": "code",
   "execution_count": 48,
   "id": "975736bd",
   "metadata": {},
   "outputs": [
    {
     "name": "stdout",
     "output_type": "stream",
     "text": [
      "Accuracy score of the test data :  0.9912222222222222\n"
     ]
    }
   ],
   "source": [
    "# accuracy score on the test data\n",
    "X_test_prediction = model_3.predict(X_test)\n",
    "test_data_accuracy = accuracy_score(X_test_prediction, Y_test)\n",
    "\n",
    "print('Accuracy score of the test data : ', test_data_accuracy)"
   ]
  },
  {
   "cell_type": "markdown",
   "id": "fe1eaf60",
   "metadata": {},
   "source": [
    "### f1-score"
   ]
  },
  {
   "cell_type": "code",
   "execution_count": 49,
   "id": "caf129ae",
   "metadata": {},
   "outputs": [
    {
     "name": "stdout",
     "output_type": "stream",
     "text": [
      "0.9906630421935941\n"
     ]
    }
   ],
   "source": [
    "y_pred = model_3.predict(X_test)\n",
    "print(f1_score(Y_test, y_pred))"
   ]
  },
  {
   "cell_type": "markdown",
   "id": "e434c6fc",
   "metadata": {},
   "source": [
    "### Precision"
   ]
  },
  {
   "cell_type": "code",
   "execution_count": 50,
   "id": "96dd0f83",
   "metadata": {},
   "outputs": [
    {
     "name": "stdout",
     "output_type": "stream",
     "text": [
      "0.9911074276376428\n"
     ]
    }
   ],
   "source": [
    "print(precision_score(Y_test, y_pred, average=\"macro\"))"
   ]
  },
  {
   "cell_type": "markdown",
   "id": "8b144c23",
   "metadata": {},
   "source": [
    "### Recall"
   ]
  },
  {
   "cell_type": "code",
   "execution_count": 51,
   "id": "a83b88c9",
   "metadata": {},
   "outputs": [
    {
     "name": "stdout",
     "output_type": "stream",
     "text": [
      "0.9912780046063652\n"
     ]
    }
   ],
   "source": [
    "print(recall_score(Y_test, y_pred, average=\"macro\"))  "
   ]
  },
  {
   "cell_type": "markdown",
   "id": "6b1c77c9",
   "metadata": {},
   "source": [
    "# Decision Tree"
   ]
  },
  {
   "cell_type": "code",
   "execution_count": 52,
   "id": "4288931c",
   "metadata": {},
   "outputs": [],
   "source": [
    "from sklearn.tree import DecisionTreeClassifier"
   ]
  },
  {
   "cell_type": "code",
   "execution_count": 53,
   "id": "7a0111c5",
   "metadata": {},
   "outputs": [],
   "source": [
    "model_4 =  DecisionTreeClassifier()"
   ]
  },
  {
   "cell_type": "code",
   "execution_count": 54,
   "id": "f8381231",
   "metadata": {},
   "outputs": [
    {
     "data": {
      "text/plain": [
       "DecisionTreeClassifier()"
      ]
     },
     "execution_count": 54,
     "metadata": {},
     "output_type": "execute_result"
    }
   ],
   "source": [
    "model_4.fit(X_train, Y_train)"
   ]
  },
  {
   "cell_type": "markdown",
   "id": "bc8f8f66",
   "metadata": {},
   "source": [
    "### Accuracy"
   ]
  },
  {
   "cell_type": "code",
   "execution_count": 55,
   "id": "3be9f06d",
   "metadata": {},
   "outputs": [
    {
     "name": "stdout",
     "output_type": "stream",
     "text": [
      "Accuracy score of the training data :  1.0\n"
     ]
    }
   ],
   "source": [
    "# accuracy score on the training data\n",
    "X_train_prediction = model_4.predict(X_train)\n",
    "training_data_accuracy = accuracy_score(X_train_prediction, Y_train)\n",
    "print('Accuracy score of the training data : ', training_data_accuracy)"
   ]
  },
  {
   "cell_type": "code",
   "execution_count": 56,
   "id": "b31f2353",
   "metadata": {},
   "outputs": [
    {
     "name": "stdout",
     "output_type": "stream",
     "text": [
      "Accuracy score of the test data :  0.9912222222222222\n"
     ]
    }
   ],
   "source": [
    "# accuracy score on the test data\n",
    "X_test_prediction = model_3.predict(X_test)\n",
    "test_data_accuracy = accuracy_score(X_test_prediction, Y_test)\n",
    "\n",
    "print('Accuracy score of the test data : ', test_data_accuracy)"
   ]
  },
  {
   "cell_type": "markdown",
   "id": "e6853609",
   "metadata": {},
   "source": [
    "### f1- score"
   ]
  },
  {
   "cell_type": "code",
   "execution_count": 57,
   "id": "78b87863",
   "metadata": {},
   "outputs": [
    {
     "name": "stdout",
     "output_type": "stream",
     "text": [
      "0.9946701409451617\n"
     ]
    }
   ],
   "source": [
    "y_pred = model_4.predict(X_test)\n",
    "print(f1_score(Y_test, y_pred))"
   ]
  },
  {
   "cell_type": "markdown",
   "id": "0d7323e2",
   "metadata": {},
   "source": [
    "### Percision"
   ]
  },
  {
   "cell_type": "code",
   "execution_count": 58,
   "id": "e5c2aad4",
   "metadata": {},
   "outputs": [
    {
     "name": "stdout",
     "output_type": "stream",
     "text": [
      "0.9950152542960231\n"
     ]
    }
   ],
   "source": [
    "print(precision_score(Y_test, y_pred, average=\"macro\"))"
   ]
  },
  {
   "cell_type": "markdown",
   "id": "ccee0551",
   "metadata": {},
   "source": [
    "### Recall"
   ]
  },
  {
   "cell_type": "code",
   "execution_count": 59,
   "id": "304377da",
   "metadata": {},
   "outputs": [
    {
     "name": "stdout",
     "output_type": "stream",
     "text": [
      "0.9949469173519111\n"
     ]
    }
   ],
   "source": [
    "print(recall_score(Y_test, y_pred, average=\"macro\"))  "
   ]
  },
  {
   "cell_type": "markdown",
   "id": "46bde2e6",
   "metadata": {},
   "source": [
    "# Testing "
   ]
  },
  {
   "cell_type": "markdown",
   "id": "3bc7406e",
   "metadata": {},
   "source": [
    "## Label  0 = Fake , 1 = True"
   ]
  },
  {
   "cell_type": "markdown",
   "id": "2b4b5f04",
   "metadata": {},
   "source": [
    "# With Decision Tree"
   ]
  },
  {
   "cell_type": "code",
   "execution_count": 60,
   "id": "ace8e711",
   "metadata": {},
   "outputs": [
    {
     "name": "stdout",
     "output_type": "stream",
     "text": [
      "label :  [0]\n",
      "The news is Fake\n"
     ]
    }
   ],
   "source": [
    "X_new = X_test[83] # change the value in here. \n",
    "\n",
    "prediction = model_4.predict(X_new)\n",
    "print('label : ',prediction)\n",
    "\n",
    "if (prediction[0]==0):\n",
    "  print('The news is Fake')\n",
    "else:\n",
    "  print('The news is True')"
   ]
  },
  {
   "cell_type": "code",
   "execution_count": 61,
   "id": "f8624713",
   "metadata": {},
   "outputs": [
    {
     "name": "stdout",
     "output_type": "stream",
     "text": [
      "label :  [1]\n",
      "The news is True\n"
     ]
    }
   ],
   "source": [
    "X_new = X_test[82] # change the value in here. \n",
    "\n",
    "prediction = model_4.predict(X_new)\n",
    "print('label : ',prediction)\n",
    "\n",
    "if (prediction[0]==0):\n",
    "  print('The news is Fake')\n",
    "else:\n",
    "  print('The news is True')"
   ]
  },
  {
   "cell_type": "markdown",
   "id": "80430608",
   "metadata": {},
   "source": [
    "# With Support Vector Machiene"
   ]
  },
  {
   "cell_type": "code",
   "execution_count": 62,
   "id": "09a785ab",
   "metadata": {},
   "outputs": [
    {
     "name": "stdout",
     "output_type": "stream",
     "text": [
      "label :  [0]\n",
      "The news is Fake\n"
     ]
    }
   ],
   "source": [
    "X_new = X_test[83] # change the value in here. \n",
    "\n",
    "prediction = model_3.predict(X_new)\n",
    "print('label : ',prediction)\n",
    "\n",
    "if (prediction[0]==0):\n",
    "  print('The news is Fake')\n",
    "else:\n",
    "  print('The news is True')"
   ]
  },
  {
   "cell_type": "code",
   "execution_count": 63,
   "id": "ce6d6d25",
   "metadata": {},
   "outputs": [
    {
     "name": "stdout",
     "output_type": "stream",
     "text": [
      "label :  [1]\n",
      "The news is True\n"
     ]
    }
   ],
   "source": [
    "X_new = X_test[82] # change the value in here. \n",
    "\n",
    "prediction = model_3.predict(X_new)\n",
    "print('label : ',prediction)\n",
    "\n",
    "if (prediction[0]==0):\n",
    "  print('The news is Fake')\n",
    "else:\n",
    "  print('The news is True')"
   ]
  }
 ],
 "metadata": {
  "kernelspec": {
   "display_name": "Python 3 (ipykernel)",
   "language": "python",
   "name": "python3"
  },
  "language_info": {
   "codemirror_mode": {
    "name": "ipython",
    "version": 3
   },
   "file_extension": ".py",
   "mimetype": "text/x-python",
   "name": "python",
   "nbconvert_exporter": "python",
   "pygments_lexer": "ipython3",
   "version": "3.9.12"
  }
 },
 "nbformat": 4,
 "nbformat_minor": 5
}
